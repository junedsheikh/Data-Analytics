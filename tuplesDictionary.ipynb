{
 "cells": [
  {
   "cell_type": "code",
   "execution_count": 18,
   "id": "dc939792",
   "metadata": {},
   "outputs": [
    {
     "name": "stdout",
     "output_type": "stream",
     "text": [
      "2\n",
      "a 2\n",
      "d 5\n",
      "[('a', 2), ('d', 5)]\n"
     ]
    }
   ],
   "source": [
    "##Sort a list of tuples by 2nd item\n",
    "\n",
    "\n",
    "numOfTuples = int(input()) \n",
    "tuplesList = [] \n",
    "for _ in range(numOfTuples):\n",
    "    a, b = input().split(\" \") \n",
    "    tuplesList.append((a, int(b))) \n",
    "sortedTuple = list(sorted(list(tuplesList), key=lambda x: x[1])) \n",
    "print(sortedTuple)"
   ]
  },
  {
   "cell_type": "code",
   "execution_count": 2,
   "id": "46ec6c1a",
   "metadata": {},
   "outputs": [
    {
     "name": "stdout",
     "output_type": "stream",
     "text": [
      "\n"
     ]
    },
    {
     "ename": "ValueError",
     "evalue": "invalid literal for int() with base 10: ''",
     "output_type": "error",
     "traceback": [
      "\u001b[1;31m---------------------------------------------------------------------------\u001b[0m",
      "\u001b[1;31mValueError\u001b[0m                                Traceback (most recent call last)",
      "Input \u001b[1;32mIn [2]\u001b[0m, in \u001b[0;36m<cell line: 2>\u001b[1;34m()\u001b[0m\n\u001b[0;32m      1\u001b[0m d\u001b[38;5;241m=\u001b[39m{}\n\u001b[1;32m----> 2\u001b[0m n\u001b[38;5;241m=\u001b[39m\u001b[38;5;28;43mint\u001b[39;49m\u001b[43m(\u001b[49m\u001b[38;5;28;43minput\u001b[39;49m\u001b[43m(\u001b[49m\u001b[43m)\u001b[49m\u001b[43m)\u001b[49m\n\u001b[0;32m      3\u001b[0m \u001b[38;5;28;01mfor\u001b[39;00m i \u001b[38;5;129;01min\u001b[39;00m \u001b[38;5;28mrange\u001b[39m(\u001b[38;5;241m1\u001b[39m,n\u001b[38;5;241m+\u001b[39m\u001b[38;5;241m1\u001b[39m):\n\u001b[0;32m      4\u001b[0m     d[i]\u001b[38;5;241m=\u001b[39mi\u001b[38;5;241m*\u001b[39mi\n",
      "\u001b[1;31mValueError\u001b[0m: invalid literal for int() with base 10: ''"
     ]
    }
   ],
   "source": [
    "d={}\n",
    "n=int(input())\n",
    "for i in range(1,n+1):\n",
    "    d[i]=i*i\n",
    "print(d)"
   ]
  },
  {
   "cell_type": "code",
   "execution_count": 3,
   "id": "ee9134ab",
   "metadata": {},
   "outputs": [
    {
     "name": "stdout",
     "output_type": "stream",
     "text": [
      "5\n"
     ]
    }
   ],
   "source": [
    "d = {1:2, \"abc\":5, \"def\":7}\n",
    "print(d.get(0,5))"
   ]
  },
  {
   "cell_type": "code",
   "execution_count": 4,
   "id": "512be80d",
   "metadata": {},
   "outputs": [
    {
     "name": "stdout",
     "output_type": "stream",
     "text": [
      "‘Not Present’\n"
     ]
    }
   ],
   "source": [
    "d = {1:2, \"“abc”\":5, \"“def”\":7}\n",
    "if 2 in d:\n",
    "    print(\"‘Present’\")\n",
    "else:\n",
    "    print(\"‘Not Present’\")"
   ]
  },
  {
   "cell_type": "code",
   "execution_count": 11,
   "id": "f443d5d7",
   "metadata": {},
   "outputs": [
    {
     "name": "stdout",
     "output_type": "stream",
     "text": [
      "5 5\n"
     ]
    },
    {
     "data": {
      "text/plain": [
       "{1, 2, 3, 4, 5}"
      ]
     },
     "execution_count": 11,
     "metadata": {},
     "output_type": "execute_result"
    }
   ],
   "source": [
    "s = {1,2,3,5,4,2,3,1}\n",
    "print(len(s),end= \" \")\n",
    "s.add(4)\n",
    "s.add(3)\n",
    "print(len(s))\n",
    "s"
   ]
  },
  {
   "cell_type": "code",
   "execution_count": 22,
   "id": "5d5758fd",
   "metadata": {},
   "outputs": [
    {
     "ename": "AttributeError",
     "evalue": "'dict' object has no attribute 'add'",
     "output_type": "error",
     "traceback": [
      "\u001b[1;31m---------------------------------------------------------------------------\u001b[0m",
      "\u001b[1;31mAttributeError\u001b[0m                            Traceback (most recent call last)",
      "Input \u001b[1;32mIn [22]\u001b[0m, in \u001b[0;36m<cell line: 2>\u001b[1;34m()\u001b[0m\n\u001b[0;32m      1\u001b[0m s \u001b[38;5;241m=\u001b[39m {}\n\u001b[1;32m----> 2\u001b[0m \u001b[43ms\u001b[49m\u001b[38;5;241;43m.\u001b[39;49m\u001b[43madd\u001b[49m(\u001b[38;5;241m4\u001b[39m)\n\u001b[0;32m      3\u001b[0m s\u001b[38;5;241m.\u001b[39madd(\u001b[38;5;241m4\u001b[39m)\n\u001b[0;32m      4\u001b[0m \u001b[38;5;28mprint\u001b[39m(\u001b[38;5;28mlen\u001b[39m(s))\n",
      "\u001b[1;31mAttributeError\u001b[0m: 'dict' object has no attribute 'add'"
     ]
    }
   ],
   "source": [
    "s = {}\n",
    "s.add(4)\n",
    "s.add(4)\n",
    "print(len(s))"
   ]
  },
  {
   "cell_type": "code",
   "execution_count": 27,
   "id": "86a8123e",
   "metadata": {},
   "outputs": [
    {
     "name": "stdout",
     "output_type": "stream",
     "text": [
      "njbjhvgcx\n",
      "n\n"
     ]
    }
   ],
   "source": [
    "##First non repeating character\n",
    "\n",
    "def nrp(string):\n",
    "    d = {}\n",
    "    final = {}\n",
    "    \n",
    "    for i in string:\n",
    "        d[i] = d.get(i,0) + 1\n",
    "        \n",
    "    for i in string:\n",
    "        if d[i] == 1:\n",
    "            final[i] = d[i]\n",
    "            return final\n",
    "        \n",
    "    \n",
    "    \n",
    "    \n",
    "string = input()\n",
    "ans = nrp(string)\n",
    "for i in ans:\n",
    "    print(i)"
   ]
  },
  {
   "cell_type": "code",
   "execution_count": null,
   "id": "59f95ade",
   "metadata": {},
   "outputs": [],
   "source": [
    "##Prime Numbers till N\n",
    "\n",
    "def primeNumbersTillN(n):\n",
    "    prime = [True for i in range(n+1)]\n",
    "     \n",
    "    p = 2\n",
    "    while(p * p <= n):\n",
    "        if (prime[p] == True):\n",
    "            for i in range(p * p, n + 1, p):\n",
    "                prime[i] = False\n",
    "        p += 1\n",
    "    c = 0\n",
    "    a=[]\n",
    "    print(0,end=\" \")\n",
    "    for p in range(2, n+1):\n",
    "        if prime[p]:\n",
    "            print(p,end=\" \")\n",
    "            \n",
    "x=int(input())\n",
    "primeNumbersTillN(x)"
   ]
  },
  {
   "cell_type": "code",
   "execution_count": null,
   "id": "db693b91",
   "metadata": {},
   "outputs": [],
   "source": [
    "##Even count\n",
    "\n",
    "def evenCount(arr):\n",
    "    a={}\n",
    "    for i in arr:\n",
    "        if i in a:\n",
    "            a[i]+=1\n",
    "        else:\n",
    "            a[i]=1\n",
    "    for i in arr:\n",
    "        if a[i]%2==0:\n",
    "            return i\n",
    "\n",
    "# Main\n",
    "n=int(input())\n",
    "arr=list(int(i) for i in input().strip().split(' '))\n",
    "print(evenCount(arr))"
   ]
  }
 ],
 "metadata": {
  "kernelspec": {
   "display_name": "Python 3 (ipykernel)",
   "language": "python",
   "name": "python3"
  },
  "language_info": {
   "codemirror_mode": {
    "name": "ipython",
    "version": 3
   },
   "file_extension": ".py",
   "mimetype": "text/x-python",
   "name": "python",
   "nbconvert_exporter": "python",
   "pygments_lexer": "ipython3",
   "version": "3.10.0"
  }
 },
 "nbformat": 4,
 "nbformat_minor": 5
}
