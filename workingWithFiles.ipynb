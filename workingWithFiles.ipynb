{
 "cells": [
  {
   "cell_type": "code",
   "execution_count": 12,
   "id": "aa2f1e90",
   "metadata": {},
   "outputs": [
    {
     "name": "stdout",
     "output_type": "stream",
     "text": [
      "2017 1 2 Afghanistan South Asia Takhta Pul 31.320556 65.961111 Hostage Taking (Kidnapping) 0.0 0.0 Construction Workers Taliban Business Firearms 0.0\n",
      "2017 1 3 Sudan Sub-Saharan Africa Fantaga 12.921007000000001 24.318324 Armed Assault 2.0 0.0 Civilians: Haroun Yousif, Hamid Ibrahim Unknown Private Citizens & Property Firearms 2.0\n",
      "2017 1 1 Democratic Republic of the Congo Sub-Saharan Africa Saboko 1.452372 29.875162 Armed Assault 7.0 0.0 Village Allied Democratic Forces (ADF) Private Citizens & Property Melee 7.0\n"
     ]
    }
   ],
   "source": [
    "import csv\n",
    "with open('year2017.csv') as file_obj:\n",
    "    file_data=csv.reader(file_obj)\n",
    "    file_list=list(file_data)\n",
    "    for row in file_list[1:4]:\n",
    "        print(*row)\n",
    "        "
   ]
  },
  {
   "cell_type": "code",
   "execution_count": 22,
   "id": "fef741ec",
   "metadata": {},
   "outputs": [
    {
     "name": "stdout",
     "output_type": "stream",
     "text": [
      "Year\n",
      "Month\n",
      "Day\n",
      "Country\n",
      "Region\n",
      "city\n",
      "latitude\n",
      "longitude\n",
      "AttackType\n",
      "Killed\n",
      "Wounded\n",
      "Target\n",
      "Group\n",
      "Target_type\n",
      "Weapon_type\n",
      "casualities\n"
     ]
    }
   ],
   "source": [
    "## Open and read data file as specified in the question\n",
    "## Print the required output in given format\n",
    "\n",
    "import csv\n",
    "with open('year2017.csv') as file:\n",
    "    f=csv.reader(file)\n",
    "    flist=list(f)\n",
    "    \n",
    "    for i in flist[0]:\n",
    "        print(i)"
   ]
  },
  {
   "cell_type": "code",
   "execution_count": 16,
   "id": "cfae533a",
   "metadata": {},
   "outputs": [
    {
     "name": "stdout",
     "output_type": "stream",
     "text": [
      "Afghanistan\n",
      "Sudan\n",
      "Democratic Republic of the Congo\n",
      "Democratic Republic of the Congo\n",
      "Turkey\n",
      "Syria\n",
      "Pakistan\n",
      "Italy\n",
      "Turkey\n",
      "Turkey\n"
     ]
    }
   ],
   "source": [
    "#Contry Names\n",
    "\n",
    "import csv\n",
    "with open('year2017.csv') as file_obj:\n",
    "    file_data = csv.DictReader(file_obj)\n",
    "    file_list = list(file_data)\n",
    "    \n",
    "    for row in file_list[:10]:\n",
    "        print(row['Country'])"
   ]
  },
  {
   "cell_type": "code",
   "execution_count": 25,
   "id": "106229ab",
   "metadata": {},
   "outputs": [
    {
     "name": "stdout",
     "output_type": "stream",
     "text": [
      "24927\n"
     ]
    }
   ],
   "source": [
    "#Total Wounded People\n",
    "\n",
    "import csv\n",
    "with open('year2017.csv') as file_obj:\n",
    "    file_data = csv.DictReader(file_obj)\n",
    "    file_list = list(file_data)\n",
    "    \n",
    "    count = 0\n",
    "    for row in file_list:\n",
    "        if row['Wounded'] != '':\n",
    "            count += int(float(row['Wounded']))\n",
    "\n",
    "print(count)"
   ]
  },
  {
   "cell_type": "code",
   "execution_count": 26,
   "id": "05e16958",
   "metadata": {},
   "outputs": [
    {
     "name": "stdout",
     "output_type": "stream",
     "text": [
      "29280\n"
     ]
    }
   ],
   "source": [
    "#Casualties from Explosives\n",
    "\n",
    "import csv\n",
    "\n",
    "with open(\"year2017.csv\") as file_obj:\n",
    "    csv_data = csv.DictReader(file_obj, skipinitialspace = True)\n",
    "    file_list = list(csv_data)\n",
    "\n",
    "casualties = []\n",
    "for row in file_list:\n",
    "    if row[\"Weapon_type\"] == \"Explosives\":\n",
    "        val = row[\"casualities\"]\n",
    "        if (val != ''):\n",
    "            casualties.append(int(float(val)))\n",
    "            \n",
    "            \n",
    "print((sum(casualties)))"
   ]
  },
  {
   "cell_type": "code",
   "execution_count": 27,
   "id": "d9a0feb9",
   "metadata": {},
   "outputs": [
    {
     "name": "stdout",
     "output_type": "stream",
     "text": [
      "1 2275\n",
      "2 2027\n",
      "3 2463\n",
      "4 2142\n",
      "5 2936\n",
      "6 2506\n",
      "7 2228\n",
      "8 2145\n",
      "9 1764\n",
      "10 2580\n",
      "11 2014\n",
      "12 1365\n"
     ]
    }
   ],
   "source": [
    "#Month vs Killed\n",
    "\n",
    "import csv\n",
    "with open('year2017.csv') as file_obj:\n",
    "    file_data = csv.DictReader(file_obj, skipinitialspace = True)\n",
    "    file_list = list(file_data)\n",
    "    \n",
    "month_killed = {}\n",
    "\n",
    "for row in file_list:\n",
    "    key = row['Month']\n",
    "    value = row['Killed']\n",
    "    \n",
    "    if value != '':\n",
    "        value = int(float(value))\n",
    "    \n",
    "    else:\n",
    "        value = 0\n",
    "        \n",
    "    if key in month_killed:\n",
    "        month_killed[key] += value\n",
    "    \n",
    "    else:\n",
    "        month_killed[key] = value    \n",
    "\n",
    "for k,v in month_killed.items():\n",
    "    print(k,v)\n"
   ]
  },
  {
   "cell_type": "code",
   "execution_count": 34,
   "id": "5d3bf5d5",
   "metadata": {},
   "outputs": [],
   "source": [
    "import csv\n",
    "file= open('amzondataset.csv','r',encoding=\"utf8\")\n",
    "f=csv.DictReader(file,skipinitialspace=True)\n",
    "a=list(f)\n",
    "for i in f:\n",
    "    print(i)"
   ]
  },
  {
   "cell_type": "code",
   "execution_count": 40,
   "id": "efc6c311",
   "metadata": {},
   "outputs": [
    {
     "name": "stdout",
     "output_type": "stream",
     "text": [
      "66 1856\n"
     ]
    }
   ],
   "source": [
    "#Job Location\n",
    "\n",
    "import csv\n",
    "f=open('amzondataset.csv','r', encoding=\"utf8\")\n",
    "a=csv.DictReader(f,skipinitialspace=True)\n",
    "b=list(a)\n",
    "ind=0\n",
    "usa=0\n",
    "for i in b:\n",
    "    if i[\"location\"]==\"US, WA, Seattle \":\n",
    "        usa+=1\n",
    "    if i[\"location\"]==\"IN, KA, Bangalore \":\n",
    "        ind+=1\n",
    "print(ind,usa)"
   ]
  },
  {
   "cell_type": "code",
   "execution_count": 37,
   "id": "e61c5a8a",
   "metadata": {},
   "outputs": [
    {
     "name": "stdout",
     "output_type": "stream",
     "text": [
      "3493.0\n"
     ]
    }
   ],
   "source": [
    "import csv\n",
    "\n",
    "f=open(\"amzondataset.csv\",'r', encoding=\"utf8\")\n",
    "a=csv.DictReader(f,skipinitialspace=True)\n",
    "\n",
    "b=list(a)\n",
    "\n",
    "job=0\n",
    "\n",
    "for i in b:\n",
    "    if i != '':\n",
    "        job = float(job)\n",
    "        job+=1\n",
    "        \n",
    "print(job)"
   ]
  },
  {
   "cell_type": "code",
   "execution_count": 46,
   "id": "e04fae39",
   "metadata": {},
   "outputs": [
    {
     "name": "stdout",
     "output_type": "stream",
     "text": [
      "Java   103\n"
     ]
    }
   ],
   "source": [
    "#Find the country does Amazon need the most number of Java Developer?\n",
    "#Print the Country(Country Shortcut as given in Dataset) and number of job opening as integer value\n",
    "\n",
    "key1 = \"Java\"\n",
    "key2 = \"Python\"\n",
    "key3 = \"C++\"\n",
    "import csv\n",
    "with open('amzondataset.csv', encoding=\"utf8\") as file_obj:\n",
    "    file_data = csv.DictReader(file_obj,skipinitialspace = True)\n",
    "    li ={}\n",
    "    for row in file_data:\n",
    "        cou = row['location']\n",
    "        if cou[:2] == \"IN\":\n",
    "            qualification = row['BASIC QUALIFICATIONS']\n",
    "            if 'Bachelor' in qualification or 'BS' in qualification or 'BA' in qualification:\n",
    "                if key1 in qualification :\n",
    "                    li[key1] = li.get(key1,0) + 1\n",
    "                if key2 in qualification:\n",
    "                    li[key2] = li.get(key2,0) + 1\n",
    "                if key3 in qualification:\n",
    "                    li[key3] = li.get(key3,0) + 1\n",
    "    max1 = -1\n",
    "    max =\"\"\n",
    "    for i in li:\n",
    "        if li[i] > max1:\n",
    "            max1 = li[i]\n",
    "            max = i\n",
    "    print(max,\" \",max1)\n",
    "    "
   ]
  }
 ],
 "metadata": {
  "kernelspec": {
   "display_name": "Python 3 (ipykernel)",
   "language": "python",
   "name": "python3"
  },
  "language_info": {
   "codemirror_mode": {
    "name": "ipython",
    "version": 3
   },
   "file_extension": ".py",
   "mimetype": "text/x-python",
   "name": "python",
   "nbconvert_exporter": "python",
   "pygments_lexer": "ipython3",
   "version": "3.10.0"
  }
 },
 "nbformat": 4,
 "nbformat_minor": 5
}
