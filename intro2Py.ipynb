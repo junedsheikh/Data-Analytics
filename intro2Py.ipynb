{
 "cells": [
  {
   "cell_type": "code",
   "execution_count": 2,
   "id": "88b9def1",
   "metadata": {},
   "outputs": [
    {
     "name": "stdout",
     "output_type": "stream",
     "text": [
      "200\n"
     ]
    }
   ],
   "source": [
    "a=10\n",
    "b=20\n",
    "M=a*b\n",
    "\n",
    "print(M)"
   ]
  },
  {
   "cell_type": "code",
   "execution_count": 3,
   "id": "48acd7af",
   "metadata": {},
   "outputs": [
    {
     "name": "stdout",
     "output_type": "stream",
     "text": [
      "x = 3 y = 4\n"
     ]
    }
   ],
   "source": [
    "x,y=4,3\n",
    "temp=x\n",
    "x=y\n",
    "y=temp\n",
    "\n",
    "print(\"x =\",x,\"y =\",y)"
   ]
  },
  {
   "cell_type": "code",
   "execution_count": 4,
   "id": "debc5d28",
   "metadata": {},
   "outputs": [
    {
     "name": "stdout",
     "output_type": "stream",
     "text": [
      "x = 2\n",
      "y = 1\n"
     ]
    }
   ],
   "source": [
    "x=1\n",
    "y=2\n",
    "x,y = y,x\n",
    "\n",
    "print(\"x =\",x)\n",
    "print(\"y =\",y)"
   ]
  },
  {
   "cell_type": "code",
   "execution_count": 5,
   "id": "e1b1797e",
   "metadata": {},
   "outputs": [
    {
     "name": "stdout",
     "output_type": "stream",
     "text": [
      "abcd\n"
     ]
    }
   ],
   "source": [
    "x = 10\n",
    "x = \"abcd\"\n",
    "print(x)"
   ]
  },
  {
   "cell_type": "code",
   "execution_count": 6,
   "id": "60765042",
   "metadata": {},
   "outputs": [
    {
     "data": {
      "text/plain": [
       "int"
      ]
     },
     "execution_count": 6,
     "metadata": {},
     "output_type": "execute_result"
    }
   ],
   "source": [
    "x = \"abcd\"\n",
    "type(x)\n",
    "\n",
    "x = 10\n",
    "type(x)"
   ]
  },
  {
   "cell_type": "code",
   "execution_count": 7,
   "id": "e93e75d0",
   "metadata": {},
   "outputs": [
    {
     "name": "stdout",
     "output_type": "stream",
     "text": [
      "2380225577488\n",
      "2380225577488\n"
     ]
    }
   ],
   "source": [
    "a = 10\n",
    "id1 = id(a)\n",
    "b = a + 2-2\n",
    "id2 = id(b)\n",
    "\n",
    "print(id1)\n",
    "print(id2)"
   ]
  },
  {
   "cell_type": "code",
   "execution_count": 8,
   "id": "ca4ff9f6",
   "metadata": {},
   "outputs": [
    {
     "name": "stdout",
     "output_type": "stream",
     "text": [
      "15\n",
      "5\n",
      "50\n",
      "2.0\n",
      "2\n",
      "100000\n",
      "0\n",
      "1\n",
      "1.7\n"
     ]
    }
   ],
   "source": [
    "a = 10\n",
    "b = 5\n",
    "print(a + b)\n",
    "print(a - b)\n",
    "print(a * b)\n",
    "print(a / b)\n",
    "print(a // b)\n",
    "print(a ** b)\n",
    "print(a % b)\n",
    "print(17//10)\n",
    "print(17/10)"
   ]
  },
  {
   "cell_type": "code",
   "execution_count": 1,
   "id": "1b7bab2f",
   "metadata": {},
   "outputs": [
    {
     "data": {
      "text/plain": [
       "(5, 4)"
      ]
     },
     "execution_count": 1,
     "metadata": {},
     "output_type": "execute_result"
    }
   ],
   "source": [
    "x=4\n",
    "y=5\n",
    "x = x + y\n",
    "y = x - y\n",
    "x = x - y\n",
    "\n",
    "x, y"
   ]
  },
  {
   "cell_type": "markdown",
   "id": "86067642",
   "metadata": {},
   "source": [
    "# Assignments\n"
   ]
  },
  {
   "cell_type": "code",
   "execution_count": null,
   "id": "f58f83da",
   "metadata": {},
   "outputs": [],
   "source": [
    "P=int(input())\n",
    "T=int(input())\n",
    "R=int(input())\n",
    "b=(P*T*R)/100\n",
    "print(\"Simple Interest is: \",int(b))"
   ]
  },
  {
   "cell_type": "code",
   "execution_count": null,
   "id": "2609e321",
   "metadata": {},
   "outputs": [],
   "source": [
    "a = int(input())\n",
    "b = int(input())\n",
    "c = a+b\n",
    "print(c)"
   ]
  },
  {
   "cell_type": "code",
   "execution_count": 12,
   "id": "a75a3b79",
   "metadata": {},
   "outputs": [
    {
     "name": "stdout",
     "output_type": "stream",
     "text": [
      "1\n",
      "1\n",
      "1\n",
      "Average:  1.0\n"
     ]
    }
   ],
   "source": [
    "a=int(input())\n",
    "b=int(input())\n",
    "c=int(input())\n",
    "d=(a+b+c)/3\n",
    "print(\"Average: \",float(d))"
   ]
  },
  {
   "cell_type": "code",
   "execution_count": 13,
   "id": "9fd0732a",
   "metadata": {},
   "outputs": [
    {
     "name": "stdout",
     "output_type": "stream",
     "text": [
      "1\n",
      "1\n",
      "1\n"
     ]
    }
   ],
   "source": [
    "x = int(input())\n",
    "n = int(input())\n",
    "a = x**n\n",
    "print(a)"
   ]
  },
  {
   "cell_type": "code",
   "execution_count": null,
   "id": "43edad98",
   "metadata": {},
   "outputs": [],
   "source": [
    "a=int(input())\n",
    "b=int(input())\n",
    "c=int(input())\n",
    "d=(c-b)or (b-a)\n",
    "print(d)"
   ]
  },
  {
   "cell_type": "code",
   "execution_count": 15,
   "id": "f4ec4062",
   "metadata": {},
   "outputs": [
    {
     "name": "stdout",
     "output_type": "stream",
     "text": [
      "1\n",
      "1\n",
      "3\n",
      "3\n",
      "4\n"
     ]
    }
   ],
   "source": [
    "x1=int(input())\n",
    "y1=int(input())\n",
    "x2=int(input())\n",
    "y2=int(input())\n",
    "a=(x2-x1)*(y2-y1)\n",
    "print(a)"
   ]
  }
 ],
 "metadata": {
  "kernelspec": {
   "display_name": "Python 3 (ipykernel)",
   "language": "python",
   "name": "python3"
  },
  "language_info": {
   "codemirror_mode": {
    "name": "ipython",
    "version": 3
   },
   "file_extension": ".py",
   "mimetype": "text/x-python",
   "name": "python",
   "nbconvert_exporter": "python",
   "pygments_lexer": "ipython3",
   "version": "3.10.0"
  }
 },
 "nbformat": 4,
 "nbformat_minor": 5
}
