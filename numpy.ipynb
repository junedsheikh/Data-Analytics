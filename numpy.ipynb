{
 "cells": [
  {
   "cell_type": "code",
   "execution_count": 1,
   "id": "8c31f5da",
   "metadata": {},
   "outputs": [
    {
     "name": "stdout",
     "output_type": "stream",
     "text": [
      "3\n"
     ]
    }
   ],
   "source": [
    "import numpy as np\n",
    "ary = np.array([1,2,3,5,8])\n",
    "ary = ary + 1\n",
    "print (ary[1])"
   ]
  },
  {
   "cell_type": "code",
   "execution_count": 5,
   "id": "31d47098",
   "metadata": {},
   "outputs": [
    {
     "name": "stdout",
     "output_type": "stream",
     "text": [
      "[-1381682750 -1945866053  1531299394  1721689979]\n"
     ]
    }
   ],
   "source": [
    "a = np.empty(4, dtype = int)\n",
    "print(a)"
   ]
  },
  {
   "cell_type": "code",
   "execution_count": 125,
   "id": "509ce9b3",
   "metadata": {},
   "outputs": [
    {
     "name": "stdout",
     "output_type": "stream",
     "text": [
      "0\n",
      "0\n",
      "0\n",
      "0\n",
      "0\n",
      "1 0\n",
      "0\n",
      "0\n",
      "0\n",
      "0\n"
     ]
    }
   ],
   "source": [
    "import numpy as np\n",
    "a=np.arange(11)\n",
    "for i in a:\n",
    "    if i==5:\n",
    "        print(1,end=\" \")\n",
    "    else:\n",
    "        print(0) "
   ]
  },
  {
   "cell_type": "code",
   "execution_count": null,
   "id": "86bee070",
   "metadata": {},
   "outputs": [],
   "source": []
  },
  {
   "cell_type": "code",
   "execution_count": 33,
   "id": "8aa8eedb",
   "metadata": {},
   "outputs": [
    {
     "data": {
      "text/plain": [
       "(4,)"
      ]
     },
     "execution_count": 33,
     "metadata": {},
     "output_type": "execute_result"
    }
   ],
   "source": [
    "a = np.array([0, 1, 2, 3])\n",
    "a.shape"
   ]
  },
  {
   "cell_type": "code",
   "execution_count": 36,
   "id": "afa169f1",
   "metadata": {},
   "outputs": [
    {
     "data": {
      "text/plain": [
       "0.8255309989974581"
      ]
     },
     "execution_count": 36,
     "metadata": {},
     "output_type": "execute_result"
    }
   ],
   "source": [
    "np.random.rand()"
   ]
  },
  {
   "cell_type": "code",
   "execution_count": 313,
   "id": "a03de2cb",
   "metadata": {},
   "outputs": [
    {
     "data": {
      "text/plain": [
       "2"
      ]
     },
     "execution_count": 313,
     "metadata": {},
     "output_type": "execute_result"
    }
   ],
   "source": [
    "np.random.randint(10)"
   ]
  },
  {
   "cell_type": "code",
   "execution_count": 319,
   "id": "868349a5",
   "metadata": {},
   "outputs": [
    {
     "name": "stdout",
     "output_type": "stream",
     "text": [
      "[[1 0 0 0 0 0]\n",
      " [0 1 0 0 0 0]\n",
      " [0 0 1 0 0 0]\n",
      " [0 0 0 1 0 0]\n",
      " [0 0 0 0 1 0]]\n"
     ]
    }
   ],
   "source": [
    "import numpy as np\n",
    "\n",
    "a=np.eye(5,6, dtype=int)\n",
    "print(a)"
   ]
  },
  {
   "cell_type": "code",
   "execution_count": 310,
   "id": "b2d4df38",
   "metadata": {},
   "outputs": [
    {
     "name": "stdout",
     "output_type": "stream",
     "text": [
      "0.56\n",
      "1.11\n",
      "1.67\n",
      "2.22\n",
      "2.78\n",
      "3.33\n",
      "3.89\n",
      "4.44\n"
     ]
    }
   ],
   "source": [
    "#Cut the Rope\n",
    "\n",
    "import numpy as np\n",
    "b =np.linspace(0 , 5 , num = 9, endpoint = False)\n",
    "for i in b:\n",
    "    if i != 0.0 and i != 5.0:\n",
    "        print(round(i , 2))"
   ]
  },
  {
   "cell_type": "code",
   "execution_count": 57,
   "id": "a6c41201",
   "metadata": {},
   "outputs": [
    {
     "name": "stdout",
     "output_type": "stream",
     "text": [
      "[2 4 6]\n"
     ]
    }
   ],
   "source": [
    "import numpy as np \n",
    "a = np.arange(10) \n",
    "s = slice(2,7,2) \n",
    "print (a[s])"
   ]
  },
  {
   "cell_type": "code",
   "execution_count": 307,
   "id": "d8e4f606",
   "metadata": {},
   "outputs": [
    {
     "name": "stdout",
     "output_type": "stream",
     "text": [
      "11 12 13 \n",
      "9 14 19 \n",
      "11 12 13 14 15 16 17 18 19 20 \n",
      "7 8 12 13 "
     ]
    }
   ],
   "source": [
    "import numpy as np\n",
    "input_=np.arange(1,21,1)\n",
    "input_=input_.reshape(4,5)\n",
    "\n",
    "arr1 = input_[2,:3]\n",
    "for i in arr1:\n",
    "    print(i, end = \" \")\n",
    "\n",
    "print()\n",
    "\n",
    "arr2 = input_[1:4,3]\n",
    "for i in arr2:\n",
    "    print(i, end = \" \")\n",
    "    \n",
    "print()\n",
    "\n",
    "arr3 = input_[2:4,:]\n",
    "\n",
    "\n",
    "for i in arr3:\n",
    "\n",
    "    for j in i:\n",
    "        print(j, end = \" \")\n",
    "    \n",
    "print()\n",
    "\n",
    "arr4 = input_[1:3,1:3]\n",
    "for i in arr4:\n",
    "    for j in i:\n",
    "        print(j, end = \" \")"
   ]
  },
  {
   "cell_type": "code",
   "execution_count": 306,
   "id": "301faa08",
   "metadata": {},
   "outputs": [
    {
     "name": "stdout",
     "output_type": "stream",
     "text": [
      "0 1 4 "
     ]
    }
   ],
   "source": [
    "#Non-Zero elements\n",
    "\n",
    "import numpy as np\n",
    "a=np.array([1,2,0,0,4,0])\n",
    "\n",
    "b=np.where(a!=0)\n",
    "for i in b[0]:\n",
    "    print(i,end=\" \")"
   ]
  },
  {
   "cell_type": "code",
   "execution_count": 305,
   "id": "3efd3b8b",
   "metadata": {},
   "outputs": [
    {
     "name": "stdout",
     "output_type": "stream",
     "text": [
      "1 4 7 "
     ]
    }
   ],
   "source": [
    "#Multiples of 3\n",
    "\n",
    "import numpy as np\n",
    "arr = np.array([ 1,  3,  5,  7,  9, 11, 13, 15, 17, 19])\n",
    "ind = np.where(arr % 3 == 0)\n",
    "ans = ind[0]\n",
    "for i in ans:\n",
    "    print(i, end = \" \")"
   ]
  },
  {
   "cell_type": "code",
   "execution_count": 212,
   "id": "2b2452a7",
   "metadata": {},
   "outputs": [
    {
     "name": "stdout",
     "output_type": "stream",
     "text": [
      "-1 2 -1 4 -1 6 -1 8 -1 -1 "
     ]
    }
   ],
   "source": [
    "import numpy as np\n",
    "a=np.linspace(1,11,10, dtype=int)\n",
    "\n",
    "for i in a:\n",
    "    if i%2==0 or i==10:\n",
    "        print(i,end=\" \")\n",
    "\n",
    "    else:\n",
    "        print(-1,end=\" \")"
   ]
  },
  {
   "cell_type": "code",
   "execution_count": 304,
   "id": "4b30fe2a",
   "metadata": {},
   "outputs": [
    {
     "name": "stdout",
     "output_type": "stream",
     "text": [
      "11\n",
      "2\n",
      "13\n",
      "4\n",
      "15\n",
      "6\n",
      "0\n",
      "8\n",
      "19\n"
     ]
    }
   ],
   "source": [
    "#Replace Max\n",
    "\n",
    "import numpy as np\n",
    "arr = [11, 2, 13, 4, 15, 6, 27, 8, 19]\n",
    "arr = np.array(arr)\n",
    "arr[arr.argmax()] = 0\n",
    "for i in arr:\n",
    "    print(i)"
   ]
  },
  {
   "cell_type": "code",
   "execution_count": 303,
   "id": "45df98f0",
   "metadata": {},
   "outputs": [
    {
     "name": "stdout",
     "output_type": "stream",
     "text": [
      "1\n",
      "2\n",
      "-1\n",
      "-1\n",
      "-1\n",
      "-1\n",
      "-1\n",
      "-1\n",
      "9\n",
      "10\n"
     ]
    }
   ],
   "source": [
    "import numpy as np\n",
    "\n",
    "a=np.linspace(1,10,10, dtype=int)\n",
    "\n",
    "for i in a:\n",
    "    if (i>=3) & (i<=8):\n",
    "        print(-1)\n",
    "    else:\n",
    "        print(i)"
   ]
  },
  {
   "cell_type": "code",
   "execution_count": 302,
   "id": "510253a4",
   "metadata": {},
   "outputs": [
    {
     "name": "stdout",
     "output_type": "stream",
     "text": [
      "15   156\n",
      "19   180\n",
      "20   162\n",
      "21   157\n",
      "22   158\n",
      "23   179\n",
      "16   182\n",
      "18   183\n",
      "20   159\n",
      "15   160\n",
      "17   172\n"
     ]
    }
   ],
   "source": [
    "import numpy as np\n",
    "\n",
    "age=np.array([15,17,19,20,14,21,16,19,13,20,22,23,21,16,18,19,20,15,17,18])\n",
    "height=np.array([156,144,180,162,152,157,154,155,151,150,158,179,126,182,183,154,159,160,172,149])\n",
    "\n",
    "a=np.where(height>155)\n",
    "for i in a[0]:\n",
    "    print(age[i], ' ', height[i])"
   ]
  },
  {
   "cell_type": "code",
   "execution_count": 300,
   "id": "39cf4cce",
   "metadata": {},
   "outputs": [
    {
     "name": "stdout",
     "output_type": "stream",
     "text": [
      "[[ 6  5  4  3  2]\n",
      " [11 10  9  8  7]\n",
      " [16 15 14 13 12]\n",
      " [21 20 19 18 17]]\n"
     ]
    }
   ],
   "source": [
    "import numpy as np\n",
    "a=[[21, 20, 19, 18, 17], [16, 15, 14, 13, 12], [11, 10, 9, 8, 7], [6, 5, 4, 3, 2] ]\n",
    "a=np.sort(a,axis=0)\n",
    "print(a)"
   ]
  },
  {
   "cell_type": "code",
   "execution_count": 311,
   "id": "420ab599",
   "metadata": {},
   "outputs": [
    {
     "name": "stdout",
     "output_type": "stream",
     "text": [
      "[1.+0.j 2.+0.j 3.+0.j]\n"
     ]
    }
   ],
   "source": [
    "import numpy as np \n",
    "a = np.array([1, 2, 3], dtype = complex) \n",
    "print(a)"
   ]
  },
  {
   "cell_type": "code",
   "execution_count": 320,
   "id": "78fd6886",
   "metadata": {},
   "outputs": [
    {
     "name": "stdout",
     "output_type": "stream",
     "text": [
      "int32\n"
     ]
    }
   ],
   "source": [
    "import numpy as np \n",
    "dt = np.dtype('>i4') \n",
    "print(dt.name)"
   ]
  },
  {
   "cell_type": "code",
   "execution_count": 356,
   "id": "a81a56fe",
   "metadata": {},
   "outputs": [
    {
     "name": "stdout",
     "output_type": "stream",
     "text": [
      "3771\n"
     ]
    }
   ],
   "source": [
    "#Total Killed in USA \n",
    "\n",
    "import csv\n",
    "import numpy as np\n",
    "\n",
    "file = open(\"terrorismData.csv\", encoding=\"utf8\")\n",
    "\n",
    "data = csv.DictReader(file,skipinitialspace = True)\n",
    "\n",
    "killed =[]\n",
    "country =[]\n",
    "for row in data:\n",
    "    killed.append(row['Killed'])\n",
    "    country.append(row['Country'])\n",
    "    \n",
    "np_killed = np.array(killed)\n",
    "np_country = np.array(country)\n",
    "np_killed[np_killed==''] = '0.0'\n",
    "np_killed = np.array(np_killed,dtype=float)\n",
    "bool_arr = np_country=='United States'\n",
    "ans = np_killed[bool_arr]\n",
    "ans1 = np.sum(ans)\n",
    "print(int(ans1))"
   ]
  },
  {
   "cell_type": "code",
   "execution_count": 2,
   "id": "7d76d2f7",
   "metadata": {},
   "outputs": [
    {
     "name": "stdout",
     "output_type": "stream",
     "text": [
      "66330\n"
     ]
    }
   ],
   "source": [
    "#Terrorism Day\n",
    "\n",
    "import numpy as np\n",
    "import csv\n",
    "\n",
    "day = []\n",
    "with open(\"terrorismData.csv\",encoding='utf8') as file_obj:\n",
    "    file_data = csv.DictReader(file_obj, skipinitialspace = True)\n",
    "    for row in file_data:\n",
    "        day.append(row['Day'])\n",
    "        \n",
    "np_arr = np.array(day, dtype = 'float')\n",
    "np_arr = np_arr[(np_arr >= 10) & (np_arr <= 20)]\n",
    "print(np_arr.shape[0])"
   ]
  },
  {
   "cell_type": "code",
   "execution_count": 11,
   "id": "9a05e480",
   "metadata": {},
   "outputs": [
    {
     "ename": "TypeError",
     "evalue": "_unique_dispatcher() got an unexpected keyword argument 'return_count'",
     "output_type": "error",
     "traceback": [
      "\u001b[1;31m---------------------------------------------------------------------------\u001b[0m",
      "\u001b[1;31mTypeError\u001b[0m                                 Traceback (most recent call last)",
      "Input \u001b[1;32mIn [11]\u001b[0m, in \u001b[0;36m<cell line: 4>\u001b[1;34m()\u001b[0m\n\u001b[0;32m      9\u001b[0m day\u001b[38;5;241m.\u001b[39mappend(i[\u001b[38;5;124m'\u001b[39m\u001b[38;5;124mDay\u001b[39m\u001b[38;5;124m'\u001b[39m])\n\u001b[0;32m     10\u001b[0m npday\u001b[38;5;241m=\u001b[39mnp\u001b[38;5;241m.\u001b[39marray(day, dtype\u001b[38;5;241m=\u001b[39m\u001b[38;5;28mint\u001b[39m)\n\u001b[1;32m---> 11\u001b[0m day,count\u001b[38;5;241m=\u001b[39m\u001b[43mnp\u001b[49m\u001b[38;5;241;43m.\u001b[39;49m\u001b[43munique\u001b[49m\u001b[43m(\u001b[49m\u001b[43mnpday\u001b[49m\u001b[43m,\u001b[49m\u001b[43m \u001b[49m\u001b[43mreturn_count\u001b[49m\u001b[38;5;241;43m=\u001b[39;49m\u001b[38;5;28;43;01mTrue\u001b[39;49;00m\u001b[43m)\u001b[49m\n\u001b[0;32m     12\u001b[0m \u001b[38;5;28mprint\u001b[39m(day[np\u001b[38;5;241m.\u001b[39margmax(count),count[np\u001b[38;5;241m.\u001b[39margmax(count)]])\n",
      "File \u001b[1;32m<__array_function__ internals>:179\u001b[0m, in \u001b[0;36munique\u001b[1;34m(*args, **kwargs)\u001b[0m\n",
      "\u001b[1;31mTypeError\u001b[0m: _unique_dispatcher() got an unexpected keyword argument 'return_count'"
     ]
    }
   ],
   "source": [
    "import numpy as np\n",
    "import csv\n",
    "\n",
    "with open('terrorismData.csv') as file:\n",
    "    data=csv.DictReader(file, skipinitialspace=True)\n",
    "    day=[]\n",
    "    count=[]\n",
    "    for i in data:\n",
    "        day.append(i['Day'])\n",
    "        npday=np.array(day, dtype=int)\n",
    "        day,count=np.unique(npday, return_count=True)\n",
    "        print(day[np.argmax(count),count[np.argmax(count)]])"
   ]
  }
 ],
 "metadata": {
  "kernelspec": {
   "display_name": "Python 3 (ipykernel)",
   "language": "python",
   "name": "python3"
  },
  "language_info": {
   "codemirror_mode": {
    "name": "ipython",
    "version": 3
   },
   "file_extension": ".py",
   "mimetype": "text/x-python",
   "name": "python",
   "nbconvert_exporter": "python",
   "pygments_lexer": "ipython3",
   "version": "3.10.0"
  }
 },
 "nbformat": 4,
 "nbformat_minor": 5
}
