{
 "cells": [
  {
   "cell_type": "code",
   "execution_count": 21,
   "id": "57394004",
   "metadata": {},
   "outputs": [
    {
     "data": {
      "text/plain": [
       "str"
      ]
     },
     "execution_count": 21,
     "metadata": {},
     "output_type": "execute_result"
    }
   ],
   "source": [
    "str=\"coding45\"\n",
    "type(str)"
   ]
  },
  {
   "cell_type": "code",
   "execution_count": null,
   "id": "573cdcfb",
   "metadata": {},
   "outputs": [],
   "source": [
    "print(str[3])\n",
    "print(str[0:4])"
   ]
  },
  {
   "cell_type": "code",
   "execution_count": 6,
   "id": "4d2ee88b",
   "metadata": {},
   "outputs": [
    {
     "name": "stdout",
     "output_type": "stream",
     "text": [
      "ABCD C\n"
     ]
    }
   ],
   "source": [
    "s = \"abcd c\"\n",
    "s.upper()\n",
    "\n",
    "print(s.upper())"
   ]
  },
  {
   "cell_type": "code",
   "execution_count": 3,
   "id": "78b7d2a1",
   "metadata": {},
   "outputs": [
    {
     "data": {
      "text/plain": [
       "'ABCD C'"
      ]
     },
     "execution_count": 3,
     "metadata": {},
     "output_type": "execute_result"
    }
   ],
   "source": [
    "s.upper()"
   ]
  },
  {
   "cell_type": "code",
   "execution_count": 4,
   "id": "1f13fe08",
   "metadata": {},
   "outputs": [
    {
     "data": {
      "text/plain": [
       "'abcd c'"
      ]
     },
     "execution_count": 4,
     "metadata": {},
     "output_type": "execute_result"
    }
   ],
   "source": [
    "s"
   ]
  },
  {
   "cell_type": "code",
   "execution_count": 12,
   "id": "2c301513",
   "metadata": {},
   "outputs": [
    {
     "name": "stdout",
     "output_type": "stream",
     "text": [
      "abcd12\n"
     ]
    }
   ],
   "source": [
    "s = \"abcd\"\n",
    "print(s + str(12))"
   ]
  },
  {
   "cell_type": "code",
   "execution_count": 27,
   "id": "2fba7927",
   "metadata": {},
   "outputs": [
    {
     "name": "stdout",
     "output_type": "stream",
     "text": [
      "fgd5g4dg\n",
      "True\n"
     ]
    }
   ],
   "source": [
    "s=input()\n",
    "flag=False\n",
    "for i in s:\n",
    "    if i.isdigit():\n",
    "        flag=True\n",
    "        break\n",
    "print(flag)"
   ]
  },
  {
   "cell_type": "code",
   "execution_count": 48,
   "id": "59b39d2a",
   "metadata": {},
   "outputs": [
    {
     "name": "stdout",
     "output_type": "stream",
     "text": [
      "\n",
      "\n"
     ]
    }
   ],
   "source": [
    "s=input()\n",
    "a='a'\n",
    "b='b'\n",
    "ans=s\n",
    "for i in range(0,len(ans)):\n",
    "    if ans[i]==a:\n",
    "        ans = ans[:i]+b+ans[i+1:]\n",
    "    elif ans[i]==b:\n",
    "        ans=ans[:i]+a+ans[i+1:]\n",
    "print(ans)"
   ]
  },
  {
   "cell_type": "code",
   "execution_count": 60,
   "id": "11752504",
   "metadata": {
    "collapsed": true
   },
   "outputs": [
    {
     "name": "stdout",
     "output_type": "stream",
     "text": [
      "hell\n",
      "o\n"
     ]
    },
    {
     "data": {
      "text/plain": [
       "'gh'"
      ]
     },
     "execution_count": 60,
     "metadata": {},
     "output_type": "execute_result"
    }
   ],
   "source": [
    "    \"abcd\"[2:]\n",
    "    str1 = 'hello'\n",
    "print(str1[:-1])\n",
    "print(str1[-1:])\n",
    "s = \"abcdefghi\"\n",
    "s[-3:-1]"
   ]
  },
  {
   "cell_type": "code",
   "execution_count": null,
   "id": "5d6bea18",
   "metadata": {},
   "outputs": [],
   "source": [
    "str=input()\n",
    "b=str[-1::-1]\n",
    "if b==str:\n",
    "    print('true')\n",
    "else:\n",
    "    print('false')\n",
    "print(b)"
   ]
  },
  {
   "cell_type": "code",
   "execution_count": null,
   "id": "150989d8",
   "metadata": {},
   "outputs": [],
   "source": []
  },
  {
   "cell_type": "code",
   "execution_count": 115,
   "id": "18b3b4ef",
   "metadata": {
    "collapsed": true
   },
   "outputs": [
    {
     "name": "stdout",
     "output_type": "stream",
     "text": [
      "\n",
      "true\n",
      "\n"
     ]
    }
   ],
   "source": [
    "str=input()\n",
    "b=str[::-1]\n",
    "if b==str:\n",
    "    print('true')\n",
    "else:\n",
    "    print('false')\n",
    "print(b)"
   ]
  },
  {
   "cell_type": "code",
   "execution_count": 285,
   "id": "cc1d194b",
   "metadata": {},
   "outputs": [
    {
     "name": "stdout",
     "output_type": "stream",
     "text": [
      "5\n",
      "5\n"
     ]
    }
   ],
   "source": [
    "s=input()\n",
    "for i in range(len(s)):\n",
    "    for j in range(i+1,len(s)+1):\n",
    "        print(s[i:j])\n"
   ]
  },
  {
   "cell_type": "code",
   "execution_count": 235,
   "id": "d7e69aa9",
   "metadata": {},
   "outputs": [
    {
     "name": "stdout",
     "output_type": "stream",
     "text": [
      "1\n",
      "['h', 'e', 'l', 'l', 'o']\n",
      "abc\n"
     ]
    },
    {
     "data": {
      "text/plain": [
       "[123, 'xyz', 'zara']"
      ]
     },
     "execution_count": 235,
     "metadata": {},
     "output_type": "execute_result"
    }
   ],
   "source": [
    "['h','e','l','l','o']\n",
    "print(len(l))\n",
    "list1 = [2445,133,12454,123]\n",
    "max(list1)\n",
    "print([i.lower() for i in \"HELLO\"])\n",
    "aList = [123, 'xyz', 'zara', 'abc']\n",
    "print(aList.pop())\n",
    "aList"
   ]
  },
  {
   "cell_type": "code",
   "execution_count": 372,
   "id": "02ced0dc",
   "metadata": {},
   "outputs": [
    {
     "name": "stdout",
     "output_type": "stream",
     "text": [
      "54 5 45 654 54 \n"
     ]
    },
    {
     "data": {
      "text/plain": [
       "[54, 5, 45, 654, 54]"
      ]
     },
     "execution_count": 372,
     "metadata": {},
     "output_type": "execute_result"
    }
   ],
   "source": [
    "#t=int(input())\n",
    "#s=int(input())\n",
    "l=[int(s) for s in input().split()]\n",
    "    \n",
    "l"
   ]
  },
  {
   "cell_type": "code",
   "execution_count": 374,
   "id": "f4520d0f",
   "metadata": {},
   "outputs": [
    {
     "name": "stdout",
     "output_type": "stream",
     "text": [
      "[1, 5, 9]\n"
     ]
    }
   ],
   "source": [
    "A = [[1, 2, 3],\n",
    "    [4, 5, 6],\n",
    "    [7, 8, 9]]\n",
    "print([A[i][i] for i in range(len(A))])"
   ]
  },
  {
   "cell_type": "code",
   "execution_count": 270,
   "id": "792799c6",
   "metadata": {},
   "outputs": [
    {
     "name": "stdout",
     "output_type": "stream",
     "text": [
      "[11, 12, 13, 14, 10, 20, 30, 40, 50, 60, 70, 80, 90]\n"
     ]
    }
   ],
   "source": [
    "r = [11, 12, 13, 14]\n",
    "A = [[0, 10, 20],\n",
    "     [30, 40, 50],\n",
    "     [60, 70, 80]]\n",
    "for row in A:\n",
    "    for col in row:\n",
    "        r.append(col+10)\n",
    "print(r)"
   ]
  },
  {
   "cell_type": "code",
   "execution_count": 272,
   "id": "676239bf",
   "metadata": {},
   "outputs": [
    {
     "name": "stdout",
     "output_type": "stream",
     "text": [
      "[0, 10, 20]\n"
     ]
    }
   ],
   "source": [
    "A = [[0, 10, 20],\n",
    "       [30, 40, 50],\n",
    "       [60, 70, 80]]\n",
    "\n",
    "print(A[0:2][0])"
   ]
  },
  {
   "cell_type": "code",
   "execution_count": 380,
   "id": "52404d0d",
   "metadata": {},
   "outputs": [
    {
     "name": "stdout",
     "output_type": "stream",
     "text": [
      "[10, 23, 56, [95]]\n"
     ]
    }
   ],
   "source": [
    "a = [10,23,56,[78]]\n",
    "b = list(a)\n",
    "a[3][0] = 95\n",
    "a[1] = 34\n",
    "print(b)"
   ]
  },
  {
   "cell_type": "code",
   "execution_count": 276,
   "id": "f500a499",
   "metadata": {},
   "outputs": [
    {
     "name": "stdout",
     "output_type": "stream",
     "text": [
      "[[0.5, 7], [1, 2], [3, 1.5]]\n"
     ]
    }
   ],
   "source": [
    "points = [[1, 2], [3, 1.5], [0.5,7]]\n",
    "points.sort()\n",
    "print(points)"
   ]
  },
  {
   "cell_type": "code",
   "execution_count": 347,
   "id": "e95cc7f8",
   "metadata": {},
   "outputs": [
    {
     "name": "stdout",
     "output_type": "stream",
     "text": [
      "1\n",
      "4 2\n",
      "1 2\n",
      "3 4\n",
      "5 6\n",
      "7 8\n",
      "3 7 11 15 \n",
      "\n"
     ]
    }
   ],
   "source": [
    "def row_sum(arr,n,m):\n",
    "    \n",
    "    for i in range(n):\n",
    "        sum = 0\n",
    "        for j in range(m):\n",
    "            sum = sum + arr[i][j]\n",
    "        print(sum, end=\" \")\n",
    "        \n",
    "    print()\n",
    "    \n",
    "t = int(input())\n",
    "for i in range(t):\n",
    "    str = input().split()\n",
    "    n,m = int(str[0]), int(str[1])\n",
    "    arr = [[int(j) for j in input().split()]for i in range(n)]\n",
    "\n",
    "    row_sum(arr,n,m)\n",
    "print()"
   ]
  },
  {
   "cell_type": "code",
   "execution_count": 309,
   "id": "5826f846",
   "metadata": {},
   "outputs": [
    {
     "name": "stdout",
     "output_type": "stream",
     "text": [
      "2\n",
      "3\n",
      "1\n",
      "2\n",
      "3\n",
      "4\n",
      "5\n",
      "6\n"
     ]
    },
    {
     "data": {
      "text/plain": [
       "[[1, 2, 3], [4, 5, 6]]"
      ]
     },
     "execution_count": 309,
     "metadata": {},
     "output_type": "execute_result"
    }
   ],
   "source": [
    "l = []\n",
    "row=input()\n",
    "col=input()\n",
    "for i in range(int(rows)):\n",
    "    a = []\n",
    "    for j in range(int(cols)):\n",
    "        n = int(input())\n",
    "        a.append(n)\n",
    "    l.append(a)\n",
    "l"
   ]
  },
  {
   "cell_type": "code",
   "execution_count": 334,
   "id": "a4a6d073",
   "metadata": {},
   "outputs": [
    {
     "name": "stdout",
     "output_type": "stream",
     "text": [
      "\n"
     ]
    },
    {
     "ename": "ValueError",
     "evalue": "invalid literal for int() with base 10: ''",
     "output_type": "error",
     "traceback": [
      "\u001b[1;31m---------------------------------------------------------------------------\u001b[0m",
      "\u001b[1;31mValueError\u001b[0m                                Traceback (most recent call last)",
      "Input \u001b[1;32mIn [334]\u001b[0m, in \u001b[0;36m<cell line: 2>\u001b[1;34m()\u001b[0m\n\u001b[0;32m      1\u001b[0m \u001b[38;5;28;01mfrom\u001b[39;00m \u001b[38;5;21;01msys\u001b[39;00m \u001b[38;5;28;01mimport\u001b[39;00m stdin\n\u001b[1;32m----> 2\u001b[0m row\u001b[38;5;241m=\u001b[39m\u001b[38;5;28;43mint\u001b[39;49m\u001b[43m(\u001b[49m\u001b[38;5;28;43minput\u001b[39;49m\u001b[43m(\u001b[49m\u001b[43m)\u001b[49m\u001b[43m)\u001b[49m\n\u001b[0;32m      3\u001b[0m col\u001b[38;5;241m=\u001b[39m\u001b[38;5;28mint\u001b[39m(\u001b[38;5;28minput\u001b[39m())\n\u001b[0;32m      4\u001b[0m n \u001b[38;5;241m=\u001b[39m \u001b[38;5;28mint\u001b[39m(stdin\u001b[38;5;241m.\u001b[39mreadline()\u001b[38;5;241m.\u001b[39mstrip())\n",
      "\u001b[1;31mValueError\u001b[0m: invalid literal for int() with base 10: ''"
     ]
    }
   ],
   "source": [
    "from sys import stdin\n",
    "row=int(input())\n",
    "col=int(input())\n",
    "n = int(stdin.readline().strip())\n",
    "mat=[[n for j in range(col)] for i in range(row)]\n",
    "mat"
   ]
  },
  {
   "cell_type": "code",
   "execution_count": 636,
   "id": "ac8ee822",
   "metadata": {},
   "outputs": [
    {
     "data": {
      "text/plain": [
       "[[0, 1, 2, 3, 4],\n",
       " [0, 1, 2, 3, 4],\n",
       " [0, 1, 2, 3, 4],\n",
       " [0, 1, 2, 3, 4],\n",
       " [0, 1, 2, 3, 4],\n",
       " [0, 1, 2, 3, 4],\n",
       " [0, 1, 2, 3, 4],\n",
       " [0, 1, 2, 3, 4],\n",
       " [0, 1, 2, 3, 4],\n",
       " [0, 1, 2, 3, 4]]"
      ]
     },
     "execution_count": 636,
     "metadata": {},
     "output_type": "execute_result"
    }
   ],
   "source": [
    "a=[[j for j in range(5)] for i in range(10)]\n",
    "a"
   ]
  },
  {
   "cell_type": "code",
   "execution_count": null,
   "id": "a14e3c29",
   "metadata": {},
   "outputs": [],
   "source": [
    "N = int(input())\n",
    "rows = N\n",
    "columns = N\n",
    "matrix = []\n",
    "for _ in range(rows):\n",
    "    row = list(map(int, input().split(',')))\n",
    "    matrix.append(row)\n",
    "max_sum = float('-inf')\n",
    "for i in range(columns):\n",
    "    row_sum = 0\n",
    "    for j in range(rows):\n",
    "        row_sum += matrix[j][i]\n",
    "    max_sum = max(row_sum, max_sum)\n",
    "print(max_sum)"
   ]
  },
  {
   "cell_type": "code",
   "execution_count": 409,
   "id": "d7363f91",
   "metadata": {},
   "outputs": [
    {
     "name": "stdout",
     "output_type": "stream",
     "text": [
      "5\n",
      "1 2 3 4 5\n",
      "[2, 1, 4, 3, 5]\n"
     ]
    }
   ],
   "source": [
    "t=input()\n",
    "n=input().split()\n",
    "l=[]\n",
    "for i in n:\n",
    "    l.append(int(i))\n",
    "for i in range(0,len(l)-1,2):\n",
    "    l[i],l[i+1]=l[i+1],l[i]\n",
    "print(l)"
   ]
  },
  {
   "cell_type": "code",
   "execution_count": null,
   "id": "b2640033",
   "metadata": {},
   "outputs": [],
   "source": [
    "l=eval(input())\n",
    "print(l)"
   ]
  },
  {
   "cell_type": "code",
   "execution_count": 408,
   "id": "be2a957c",
   "metadata": {},
   "outputs": [
    {
     "name": "stdout",
     "output_type": "stream",
     "text": [
      "1\n",
      "5\n",
      "1 2 3 4 5\n"
     ]
    },
    {
     "ename": "ValueError",
     "evalue": "invalid literal for int() with base 10: '1 2 3 4 5'",
     "output_type": "error",
     "traceback": [
      "\u001b[1;31m---------------------------------------------------------------------------\u001b[0m",
      "\u001b[1;31mValueError\u001b[0m                                Traceback (most recent call last)",
      "Input \u001b[1;32mIn [408]\u001b[0m, in \u001b[0;36m<cell line: 4>\u001b[1;34m()\u001b[0m\n\u001b[0;32m      3\u001b[0m l\u001b[38;5;241m=\u001b[39m[]\n\u001b[0;32m      4\u001b[0m \u001b[38;5;28;01mfor\u001b[39;00m i \u001b[38;5;129;01min\u001b[39;00m \u001b[38;5;28mrange\u001b[39m(s):\n\u001b[1;32m----> 5\u001b[0m     l\u001b[38;5;241m.\u001b[39mappend(\u001b[38;5;28;43mint\u001b[39;49m\u001b[43m(\u001b[49m\u001b[38;5;28;43minput\u001b[39;49m\u001b[43m(\u001b[49m\u001b[43m)\u001b[49m\u001b[43m)\u001b[49m)\n\u001b[0;32m      6\u001b[0m \u001b[38;5;28;01mfor\u001b[39;00m i \u001b[38;5;129;01min\u001b[39;00m \u001b[38;5;28mrange\u001b[39m(\u001b[38;5;241m0\u001b[39m,\u001b[38;5;28mlen\u001b[39m(l)\u001b[38;5;241m-\u001b[39m\u001b[38;5;241m1\u001b[39m,\u001b[38;5;241m2\u001b[39m):\n\u001b[0;32m      7\u001b[0m     l[i],l[i\u001b[38;5;241m+\u001b[39m\u001b[38;5;241m1\u001b[39m]\u001b[38;5;241m=\u001b[39m l[i\u001b[38;5;241m+\u001b[39m\u001b[38;5;241m1\u001b[39m],l[i]\n",
      "\u001b[1;31mValueError\u001b[0m: invalid literal for int() with base 10: '1 2 3 4 5'"
     ]
    }
   ],
   "source": [
    "t=input()\n",
    "s=int(input())\n",
    "l=[]\n",
    "for i in range(s):\n",
    "    l.append(int(input()))\n",
    "for i in range(0,len(l)-1,2):\n",
    "    l[i],l[i+1]= l[i+1],l[i]\n",
    "\n",
    "print(l)"
   ]
  },
  {
   "cell_type": "code",
   "execution_count": 564,
   "id": "4dd72f89",
   "metadata": {},
   "outputs": [
    {
     "ename": "ValueError",
     "evalue": "invalid literal for int() with base 10: ''",
     "output_type": "error",
     "traceback": [
      "\u001b[1;31m---------------------------------------------------------------------------\u001b[0m",
      "\u001b[1;31mValueError\u001b[0m                                Traceback (most recent call last)",
      "Input \u001b[1;32mIn [564]\u001b[0m, in \u001b[0;36m<cell line: 28>\u001b[1;34m()\u001b[0m\n\u001b[0;32m     25\u001b[0m     \u001b[38;5;28mprint\u001b[39m()\n\u001b[0;32m     27\u001b[0m \u001b[38;5;66;03m#main\u001b[39;00m\n\u001b[1;32m---> 28\u001b[0m t \u001b[38;5;241m=\u001b[39m \u001b[38;5;28;43mint\u001b[39;49m\u001b[43m(\u001b[49m\u001b[43mstdin\u001b[49m\u001b[38;5;241;43m.\u001b[39;49m\u001b[43mreadline\u001b[49m\u001b[43m(\u001b[49m\u001b[43m)\u001b[49m\u001b[38;5;241;43m.\u001b[39;49m\u001b[43mrstrip\u001b[49m\u001b[43m(\u001b[49m\u001b[43m)\u001b[49m\u001b[43m)\u001b[49m\n\u001b[0;32m     30\u001b[0m \u001b[38;5;28;01mwhile\u001b[39;00m t \u001b[38;5;241m>\u001b[39m \u001b[38;5;241m0\u001b[39m:\n\u001b[0;32m     31\u001b[0m     arr, n \u001b[38;5;241m=\u001b[39m takeInput()\n",
      "\u001b[1;31mValueError\u001b[0m: invalid literal for int() with base 10: ''"
     ]
    }
   ],
   "source": [
    "from sys import stdin\n",
    "\n",
    "def swapAlternate(arr, n):\n",
    "    if len(arr)%2==0:\n",
    "        m=len(arr)\n",
    "    else:\n",
    "        m=len(arr)-1\n",
    "    for i in range(0,m,2):\n",
    "        arr[i],arr[i+1]=arr[i+1],arr[i]\n",
    "\n",
    "#Taking Input Using Fast I/O\n",
    "def takeInput():\n",
    "    n = int(stdin.readline().rstrip())\n",
    "\n",
    "    if n == 0:\n",
    "        return list(), 0\n",
    "\n",
    "    arr = list(map(int, stdin.readline().rstrip().split(\" \")))\n",
    "    return arr, n\n",
    "\n",
    "#Printing the array/list\n",
    "def printList(arr, n):\n",
    "    for i in range(n):\n",
    "        print(arr[i], end = \" \")\n",
    "    print()\n",
    "\n",
    "#main\n",
    "t = int(stdin.readline().rstrip())\n",
    "\n",
    "while t > 0:\n",
    "    arr, n = takeInput()\n",
    "    if n != 0:\n",
    "        swapAlternate(arr, n)\n",
    "        printList(arr, n)\n",
    "    t -= 1"
   ]
  },
  {
   "cell_type": "code",
   "execution_count": 369,
   "id": "334e5480",
   "metadata": {},
   "outputs": [
    {
     "name": "stdout",
     "output_type": "stream",
     "text": [
      "gbfbfgfb\n",
      "gbf\n"
     ]
    }
   ],
   "source": [
    "n=input()\n",
    "x=0\n",
    "s1=\"\"\n",
    "for i in n:\n",
    "    if n.index(i)==x:\n",
    "        s1+=i\n",
    "    x+=1\n",
    "print(s1)"
   ]
  },
  {
   "cell_type": "code",
   "execution_count": null,
   "id": "62044ba6",
   "metadata": {},
   "outputs": [],
   "source": [
    "str=input()\n",
    "words=str.split()\n",
    "rev_str=[]\n",
    "\n",
    "for i in words:\n",
    "    rev_str.append(i[::-1])\n",
    "z=\" \".join(rev_str)\n",
    "print(z)"
   ]
  },
  {
   "cell_type": "code",
   "execution_count": 399,
   "id": "c64f29a3",
   "metadata": {},
   "outputs": [
    {
     "name": "stdout",
     "output_type": "stream",
     "text": [
      "def func(a):     a = a + 10     return a b = 5 b = func(b) print(b)\n",
      " \n"
     ]
    }
   ],
   "source": [
    "\n",
    "def highest(str):\n",
    "    n = len(str)\n",
    "    freq = [0]*256\n",
    "    max_freq = 0\n",
    "    \n",
    "    for i in range(n):\n",
    "        freq[ord(str[i])] += 1\n",
    "        max_freq = max(max_freq, freq[ord(str[i])])\n",
    "    \n",
    "    for i in range(n):\n",
    "        \n",
    "        if freq[ord(str[i])] == max_freq:\n",
    "            ans = str[i]\n",
    "            break\n",
    "            \n",
    "    return ans\n",
    "\n",
    "inp = input()\n",
    "print(highest(inp))"
   ]
  },
  {
   "cell_type": "code",
   "execution_count": 404,
   "id": "489aab26",
   "metadata": {},
   "outputs": [
    {
     "data": {
      "text/plain": [
       "15"
      ]
     },
     "execution_count": 404,
     "metadata": {},
     "output_type": "execute_result"
    }
   ],
   "source": [
    "def func(a):\n",
    "    a = a + 10\n",
    "    return a\n",
    "b = 5\n",
    "func(b)"
   ]
  }
 ],
 "metadata": {
  "kernelspec": {
   "display_name": "Python 3 (ipykernel)",
   "language": "python",
   "name": "python3"
  },
  "language_info": {
   "codemirror_mode": {
    "name": "ipython",
    "version": 3
   },
   "file_extension": ".py",
   "mimetype": "text/x-python",
   "name": "python",
   "nbconvert_exporter": "python",
   "pygments_lexer": "ipython3",
   "version": "3.10.0"
  }
 },
 "nbformat": 4,
 "nbformat_minor": 5
}
