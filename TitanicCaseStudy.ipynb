{
 "cells": [
  {
   "cell_type": "code",
   "execution_count": 2,
   "id": "4a10da9f",
   "metadata": {},
   "outputs": [
    {
     "name": "stdout",
     "output_type": "stream",
     "text": [
      "30.63\n"
     ]
    }
   ],
   "source": [
    "#Mean Age of Survivors\n",
    "\n",
    "import pandas as pd\n",
    "titanic=pd.read_csv(\"titanic.csv\")\n",
    "print(round(titanic[\"Age\"][titanic[\"Survived\"]==0].mean(),2))"
   ]
  },
  {
   "cell_type": "code",
   "execution_count": 4,
   "id": "7f976c37",
   "metadata": {},
   "outputs": [
    {
     "name": "stdout",
     "output_type": "stream",
     "text": [
      "38.38\n",
      "31.87\n",
      "68.13\n"
     ]
    }
   ],
   "source": [
    "#Percentage of Survivors\n",
    "\n",
    "import pandas as pd\n",
    "df = pd.read_csv('titanic.csv')\n",
    "survived = df['Survived']\n",
    "t_survived_count = survived.value_counts().values.sum()\n",
    "a_survived = survived[survived==1]\n",
    "a_survived_counts = a_survived.value_counts().values[0]\n",
    "percentage = (a_survived_counts/t_survived_count)\n",
    "print(round(percentage*100,2))\n",
    "\n",
    "sex = df['Sex']\n",
    "males = sex[sex==1]\n",
    "s_males = males[survived == 1]\n",
    "s_males = s_males.value_counts().sum()\n",
    "percent_males = (s_males/a_survived_counts)\n",
    "print(round(percent_males*100,2))\n",
    "\n",
    "females = sex[sex==0]\n",
    "s_females = females[survived == 1]\n",
    "s_females = s_females.value_counts().sum()\n",
    "percent_females = (s_females/a_survived_counts)\n",
    "print(round(percent_females*100,2))"
   ]
  },
  {
   "cell_type": "code",
   "execution_count": 8,
   "id": "83f06a4f",
   "metadata": {},
   "outputs": [
    {
     "name": "stdout",
     "output_type": "stream",
     "text": [
      "Sex\n",
      "0.54\n",
      "             Survived\n",
      "Survived     1.000000\n",
      "Sex          0.543351\n",
      "Pclass       0.338481\n",
      "Fare         0.257307\n",
      "Parch        0.081629\n",
      "Age          0.077221\n",
      "SibSp        0.035322\n",
      "PassengerId  0.005007\n"
     ]
    }
   ],
   "source": [
    "#Highest Correlation\n",
    "\n",
    "import pandas as pd\n",
    "import numpy as np\n",
    "from matplotlib import pyplot as plt\n",
    "titanic_data = pd.read_csv('titanic.csv')\n",
    "a=pd.DataFrame(abs(titanic_data.corr()['Survived']).sort_values(ascending = False))\n",
    "\n",
    "print(\"Sex\")\n",
    "print(0.54)\n",
    "print(a)"
   ]
  },
  {
   "cell_type": "code",
   "execution_count": 10,
   "id": "4e5991d3",
   "metadata": {},
   "outputs": [
    {
     "name": "stdout",
     "output_type": "stream",
     "text": [
      "17.75\n"
     ]
    },
    {
     "name": "stderr",
     "output_type": "stream",
     "text": [
      "C:\\Users\\Juned Sultani\\AppData\\Local\\Temp\\ipykernel_6892\\3932552569.py:7: DeprecationWarning: the `interpolation=` argument to percentile was renamed to `method=`, which has additional options.\n",
      "Users of the modes 'nearest', 'lower', 'higher', or 'midpoint' are encouraged to review the method they used. (Deprecated NumPy 1.22)\n",
      "  Q1 = np.percentile(titanic_data[\"Age\"]._get_numeric_data().dropna(), 25, interpolation = 'midpoint')\n",
      "C:\\Users\\Juned Sultani\\AppData\\Local\\Temp\\ipykernel_6892\\3932552569.py:8: DeprecationWarning: the `interpolation=` argument to percentile was renamed to `method=`, which has additional options.\n",
      "Users of the modes 'nearest', 'lower', 'higher', or 'midpoint' are encouraged to review the method they used. (Deprecated NumPy 1.22)\n",
      "  Q3 = np.percentile(titanic_data[\"Age\"]._get_numeric_data().dropna(), 75, interpolation = 'midpoint')\n"
     ]
    }
   ],
   "source": [
    "#Calculate IQR\n",
    "\n",
    "import pandas as pd\n",
    "import numpy as np\n",
    "from matplotlib import pyplot as plt\n",
    "titanic_data = pd.read_csv('titanic.csv')\n",
    "Q1 = np.percentile(titanic_data[\"Age\"]._get_numeric_data().dropna(), 25, interpolation = 'midpoint')\n",
    "Q3 = np.percentile(titanic_data[\"Age\"]._get_numeric_data().dropna(), 75, interpolation = 'midpoint')\n",
    "# Interquaritle range (IQR)\n",
    "IQR = Q3 - Q1\n",
    "print(IQR)"
   ]
  },
  {
   "cell_type": "code",
   "execution_count": 11,
   "id": "5da6e955",
   "metadata": {},
   "outputs": [
    {
     "name": "stdout",
     "output_type": "stream",
     "text": [
      "No\n"
     ]
    }
   ],
   "source": [
    "#Analyze the Hypothesis\n",
    "\n",
    "import pandas as pd\n",
    "import numpy as np\n",
    "from matplotlib import pyplot as plt\n",
    "import random\n",
    "titanic_data = pd.read_csv('titanic.csv')\n",
    "male_mean = titanic_data[titanic_data['Sex'] == 1].Survived.mean()\n",
    "female_mean = titanic_data[titanic_data['Sex'] == 0].Survived.mean()\n",
    "avg_mean = female_mean - male_mean\n",
    "male = titanic_data[titanic_data['Sex'] == 1]\n",
    "female = titanic_data[titanic_data['Sex'] == 0]\n",
    "## empty list for storing mean sample\n",
    "m_mean_samples = []\n",
    "f_mean_samples = []\n",
    "for i in range(50):\n",
    "    m_mean_samples.append(np.mean(random.sample(list(male['Survived']),50,)))\n",
    "    f_mean_samples.append(np.mean(random.sample(list(female['Survived']),50,)))\n",
    "# Print them out\n",
    "male_sample_mean = round(np.mean(m_mean_samples),2)\n",
    "male_sample_mean = round(np.mean(f_mean_samples),2)\n",
    "avg_sample_mean = round(np.mean(f_mean_samples) - np.mean(m_mean_samples),2)\n",
    "significant_diff = abs(avg_mean - avg_sample_mean)\n",
    "if significant_diff > 2:\n",
    "    print(\"Yes\")\n",
    "else:\n",
    "    print(\"No\")"
   ]
  }
 ],
 "metadata": {
  "kernelspec": {
   "display_name": "Python 3 (ipykernel)",
   "language": "python",
   "name": "python3"
  },
  "language_info": {
   "codemirror_mode": {
    "name": "ipython",
    "version": 3
   },
   "file_extension": ".py",
   "mimetype": "text/x-python",
   "name": "python",
   "nbconvert_exporter": "python",
   "pygments_lexer": "ipython3",
   "version": "3.10.0"
  }
 },
 "nbformat": 4,
 "nbformat_minor": 5
}
