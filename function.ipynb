{
 "cells": [
  {
   "cell_type": "code",
   "execution_count": 1,
   "id": "53c64070",
   "metadata": {},
   "outputs": [
    {
     "ename": "KeyboardInterrupt",
     "evalue": "Interrupted by user",
     "output_type": "error",
     "traceback": [
      "\u001b[1;31m---------------------------------------------------------------------------\u001b[0m",
      "\u001b[1;31mKeyboardInterrupt\u001b[0m                         Traceback (most recent call last)",
      "Input \u001b[1;32mIn [1]\u001b[0m, in \u001b[0;36m<cell line: 9>\u001b[1;34m()\u001b[0m\n\u001b[0;32m      6\u001b[0m         fac\u001b[38;5;241m=\u001b[39mfac\u001b[38;5;241m*\u001b[39mi\n\u001b[0;32m      7\u001b[0m     \u001b[38;5;28;01mreturn\u001b[39;00m fac\n\u001b[1;32m----> 9\u001b[0m n\u001b[38;5;241m=\u001b[39m\u001b[38;5;28mint\u001b[39m(\u001b[38;5;28;43minput\u001b[39;49m\u001b[43m(\u001b[49m\u001b[43m)\u001b[49m)\n\u001b[0;32m     10\u001b[0m fact(n)\n",
      "File \u001b[1;32m~\\AppData\\Local\\Programs\\Python\\Python310\\lib\\site-packages\\ipykernel\\kernelbase.py:1177\u001b[0m, in \u001b[0;36mKernel.raw_input\u001b[1;34m(self, prompt)\u001b[0m\n\u001b[0;32m   1173\u001b[0m \u001b[38;5;28;01mif\u001b[39;00m \u001b[38;5;129;01mnot\u001b[39;00m \u001b[38;5;28mself\u001b[39m\u001b[38;5;241m.\u001b[39m_allow_stdin:\n\u001b[0;32m   1174\u001b[0m     \u001b[38;5;28;01mraise\u001b[39;00m StdinNotImplementedError(\n\u001b[0;32m   1175\u001b[0m         \u001b[38;5;124m\"\u001b[39m\u001b[38;5;124mraw_input was called, but this frontend does not support input requests.\u001b[39m\u001b[38;5;124m\"\u001b[39m\n\u001b[0;32m   1176\u001b[0m     )\n\u001b[1;32m-> 1177\u001b[0m \u001b[38;5;28;01mreturn\u001b[39;00m \u001b[38;5;28;43mself\u001b[39;49m\u001b[38;5;241;43m.\u001b[39;49m\u001b[43m_input_request\u001b[49m\u001b[43m(\u001b[49m\n\u001b[0;32m   1178\u001b[0m \u001b[43m    \u001b[49m\u001b[38;5;28;43mstr\u001b[39;49m\u001b[43m(\u001b[49m\u001b[43mprompt\u001b[49m\u001b[43m)\u001b[49m\u001b[43m,\u001b[49m\n\u001b[0;32m   1179\u001b[0m \u001b[43m    \u001b[49m\u001b[38;5;28;43mself\u001b[39;49m\u001b[38;5;241;43m.\u001b[39;49m\u001b[43m_parent_ident\u001b[49m\u001b[43m[\u001b[49m\u001b[38;5;124;43m\"\u001b[39;49m\u001b[38;5;124;43mshell\u001b[39;49m\u001b[38;5;124;43m\"\u001b[39;49m\u001b[43m]\u001b[49m\u001b[43m,\u001b[49m\n\u001b[0;32m   1180\u001b[0m \u001b[43m    \u001b[49m\u001b[38;5;28;43mself\u001b[39;49m\u001b[38;5;241;43m.\u001b[39;49m\u001b[43mget_parent\u001b[49m\u001b[43m(\u001b[49m\u001b[38;5;124;43m\"\u001b[39;49m\u001b[38;5;124;43mshell\u001b[39;49m\u001b[38;5;124;43m\"\u001b[39;49m\u001b[43m)\u001b[49m\u001b[43m,\u001b[49m\n\u001b[0;32m   1181\u001b[0m \u001b[43m    \u001b[49m\u001b[43mpassword\u001b[49m\u001b[38;5;241;43m=\u001b[39;49m\u001b[38;5;28;43;01mFalse\u001b[39;49;00m\u001b[43m,\u001b[49m\n\u001b[0;32m   1182\u001b[0m \u001b[43m\u001b[49m\u001b[43m)\u001b[49m\n",
      "File \u001b[1;32m~\\AppData\\Local\\Programs\\Python\\Python310\\lib\\site-packages\\ipykernel\\kernelbase.py:1219\u001b[0m, in \u001b[0;36mKernel._input_request\u001b[1;34m(self, prompt, ident, parent, password)\u001b[0m\n\u001b[0;32m   1216\u001b[0m             \u001b[38;5;28;01mbreak\u001b[39;00m\n\u001b[0;32m   1217\u001b[0m \u001b[38;5;28;01mexcept\u001b[39;00m \u001b[38;5;167;01mKeyboardInterrupt\u001b[39;00m:\n\u001b[0;32m   1218\u001b[0m     \u001b[38;5;66;03m# re-raise KeyboardInterrupt, to truncate traceback\u001b[39;00m\n\u001b[1;32m-> 1219\u001b[0m     \u001b[38;5;28;01mraise\u001b[39;00m \u001b[38;5;167;01mKeyboardInterrupt\u001b[39;00m(\u001b[38;5;124m\"\u001b[39m\u001b[38;5;124mInterrupted by user\u001b[39m\u001b[38;5;124m\"\u001b[39m) \u001b[38;5;28;01mfrom\u001b[39;00m \u001b[38;5;28mNone\u001b[39m\n\u001b[0;32m   1220\u001b[0m \u001b[38;5;28;01mexcept\u001b[39;00m \u001b[38;5;167;01mException\u001b[39;00m:\n\u001b[0;32m   1221\u001b[0m     \u001b[38;5;28mself\u001b[39m\u001b[38;5;241m.\u001b[39mlog\u001b[38;5;241m.\u001b[39mwarning(\u001b[38;5;124m\"\u001b[39m\u001b[38;5;124mInvalid Message:\u001b[39m\u001b[38;5;124m\"\u001b[39m, exc_info\u001b[38;5;241m=\u001b[39m\u001b[38;5;28;01mTrue\u001b[39;00m)\n",
      "\u001b[1;31mKeyboardInterrupt\u001b[0m: Interrupted by user"
     ]
    }
   ],
   "source": [
    "## Factorial\n",
    "\n",
    "def fact(a):\n",
    "    fac=1\n",
    "    for i in range(1,a+1):\n",
    "        fac=fac*i\n",
    "    return fac\n",
    "\n",
    "n=int(input())\n",
    "fact(n)"
   ]
  },
  {
   "cell_type": "code",
   "execution_count": null,
   "id": "89b04031",
   "metadata": {},
   "outputs": [],
   "source": [
    "##Prime Numbers\n",
    "\n",
    "def isPrime(n):\n",
    "    for i in range(2,n):\n",
    "        if(n%i==0):\n",
    "            continue\n",
    "        else:\n",
    "            print(i)\n",
    "            \n",
    "n=int(input())\n",
    "isPrime(n)"
   ]
  },
  {
   "cell_type": "code",
   "execution_count": null,
   "id": "08983d7b",
   "metadata": {},
   "outputs": [],
   "source": [
    "def func(a):\n",
    "    a = a + 10\n",
    "    return a\n",
    "a = 5\n",
    "func(a)\n",
    "print(a)"
   ]
  },
  {
   "cell_type": "code",
   "execution_count": null,
   "id": "2fd87a20",
   "metadata": {},
   "outputs": [],
   "source": [
    "def printTable(s,e,w):\n",
    "    while True:\n",
    "        c=0\n",
    "        if s<=e:\n",
    "            c=(s-32)*5/9\n",
    "            print(s,int(c))\n",
    "            s = s + w\n",
    "\n",
    "        else:break\n",
    "           \n",
    "s = int(input())\n",
    "e = int(input())\n",
    "w = int(input())\n",
    "printTable(s,e,w)"
   ]
  },
  {
   "cell_type": "code",
   "execution_count": null,
   "id": "819d5deb",
   "metadata": {},
   "outputs": [],
   "source": [
    "## Check Fibonacci Member\n",
    "\n",
    "import math\n",
    "def checkMember(n):\n",
    "    s=int(math.sqrt(n))\n",
    "    return s*s==n\n",
    "\n",
    "def isFib(n):\n",
    "    return checkMember(5*n*n+4) or checkMember(5*n*n-4)\n",
    "    \n",
    "\n",
    "n=int(input())\n",
    "if(isFib(n)):\n",
    "    print(\"true\")\n",
    "else:\n",
    "    print(\"false\")"
   ]
  },
  {
   "cell_type": "code",
   "execution_count": null,
   "id": "88b20d20",
   "metadata": {},
   "outputs": [],
   "source": [
    "def A():\n",
    "    print('A',end=' ')\n",
    "def B():\n",
    "    print('B',end=' ')\n",
    "    A()\n",
    "def C():\n",
    "    B()\n",
    "    print('C',end=' ')\n",
    "\n",
    "C()"
   ]
  },
  {
   "cell_type": "code",
   "execution_count": null,
   "id": "6d9af08e",
   "metadata": {},
   "outputs": [],
   "source": [
    "def revarr(n):\n",
    "    l=[1,2,3]\n",
    "    for i in range(n,0,-1):\n",
    "        k= input().split()\n",
    "        l.append(k)\n",
    "    return l\n",
    "\n",
    "\n",
    "s=int(input())\n",
    "revarr(s)"
   ]
  },
  {
   "cell_type": "code",
   "execution_count": null,
   "id": "63615b17",
   "metadata": {},
   "outputs": [],
   "source": [
    "##Swap Alternate Code\n",
    "\n",
    "def swap(arr,n):\n",
    "    \n",
    "    for i in n:\n",
    "        arr.append(int(i))\n",
    "    for i in range(0,len(arr)-1,2):\n",
    "        arr[i],arr[i+1]=arr[i+1],arr[i]\n",
    "    print(arr)\n",
    "        \n",
    "    print()\n",
    "    \n",
    "t = int(input())\n",
    "s=input()\n",
    "for i in range(t):\n",
    "    n = input().split()\n",
    "    arr = []\n",
    "    x=swap(arr,n)\n",
    "    z=\" \".join(x)\n",
    "    z\n"
   ]
  },
  {
   "cell_type": "code",
   "execution_count": 5,
   "id": "dfe82b76",
   "metadata": {},
   "outputs": [
    {
     "name": "stdout",
     "output_type": "stream",
     "text": [
      "1\n",
      "5\n",
      "2 3 4 5 69\n",
      "\n",
      "3 2 5 4 69 "
     ]
    }
   ],
   "source": [
    "##Swap Alternate Code\n",
    "\n",
    "def swap(arr,n):\n",
    "    \n",
    "    for i in n:\n",
    "        arr.append(int(i))\n",
    "    for i in range(0,len(arr)-1,2):\n",
    "        arr[i],arr[i+1]=arr[i+1],arr[i]\n",
    "    \n",
    "        \n",
    "    print()\n",
    "    \n",
    "t = int(input())\n",
    "s=input()\n",
    "for i in range(t):\n",
    "    n = input().split()\n",
    "    arr = []\n",
    "    swap(arr,n)\n",
    "for i in arr:\n",
    "    print(i,end=\" \")"
   ]
  },
  {
   "cell_type": "code",
   "execution_count": null,
   "id": "42cffd08",
   "metadata": {},
   "outputs": [],
   "source": [
    "def f():\n",
    "    a=10\n",
    "    return a\n",
    "f()"
   ]
  },
  {
   "cell_type": "code",
   "execution_count": null,
   "id": "1badc5fb",
   "metadata": {},
   "outputs": [],
   "source": [
    "a=14\n",
    "def f():\n",
    "    global a\n",
    "    a=12\n",
    "f()\n",
    "print(a)"
   ]
  },
  {
   "cell_type": "code",
   "execution_count": null,
   "id": "fe3cf6f8",
   "metadata": {},
   "outputs": [],
   "source": [
    "## reverse array\n",
    "\n",
    "def reverseArray(arr,start,end,length):\n",
    "    while start < end:\n",
    "        arr[start],arr[end] = arr[end],arr[start]\n",
    "        start += 1\n",
    "        end -= 1\n",
    "        \n",
    "        \n",
    "length = int(input())\n",
    "arr = [int(i) for i in input().split()]\n",
    "reverseArray(arr,0,length - 1,length)\n",
    "print(*arr)"
   ]
  },
  {
   "cell_type": "code",
   "execution_count": null,
   "id": "d8ca251c",
   "metadata": {},
   "outputs": [],
   "source": [
    "##Factorial of number\n",
    "\n",
    "def factorial(b):\n",
    "    a=1\n",
    "    for i in range(1,b+1):\n",
    "        a*=i\n",
    "    print(a,end=\"\")\n",
    "    \n",
    "n=int(input())\n",
    "factorial(n)"
   ]
  },
  {
   "cell_type": "code",
   "execution_count": null,
   "id": "5e926a18",
   "metadata": {},
   "outputs": [],
   "source": [
    "## Binomial Coefficient\n",
    "\n",
    "def calculateBinomialCoefficient(n, r): \n",
    "    def fact(a):\n",
    "        b=1\n",
    "        for i in range(1,a+1):\n",
    "            b*=i\n",
    "        return b\n",
    "    \n",
    "    return (fact(n)//(fact(r)*fact(n-r)))%(1000000007)\n",
    "\n",
    "x,y=map(int, input().split())     #for taking split input\n",
    "print(calculateBinomialCoefficient(x,y))"
   ]
  }
 ],
 "metadata": {
  "kernelspec": {
   "display_name": "Python 3 (ipykernel)",
   "language": "python",
   "name": "python3"
  },
  "language_info": {
   "codemirror_mode": {
    "name": "ipython",
    "version": 3
   },
   "file_extension": ".py",
   "mimetype": "text/x-python",
   "name": "python",
   "nbconvert_exporter": "python",
   "pygments_lexer": "ipython3",
   "version": "3.10.0"
  }
 },
 "nbformat": 4,
 "nbformat_minor": 5
}
