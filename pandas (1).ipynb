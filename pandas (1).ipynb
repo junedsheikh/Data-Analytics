{
 "cells": [
  {
   "cell_type": "code",
   "execution_count": 20,
   "id": "7a64e4f0",
   "metadata": {},
   "outputs": [
    {
     "name": "stdout",
     "output_type": "stream",
     "text": [
      "     Rank               Title                           Website  Employees  \\\n",
      "0       1             Walmart            http://www.walmart.com    2300000   \n",
      "1       2  Berkshire Hathaway  http://www.berkshirehathaway.com     367700   \n",
      "2       3               Apple              http://www.apple.com     116000   \n",
      "3       4         Exxon Mobil         http://www.exxonmobil.com      72700   \n",
      "4       5            McKesson           http://www.mckesson.com      68000   \n",
      "..    ...                 ...                               ...        ...   \n",
      "495   496       Michaels Cos.           http://www.michaels.com      31000   \n",
      "496   497       Toll Brothers       http://www.tollbrothers.com       4200   \n",
      "497   498               Yahoo              http://www.yahoo.com       8500   \n",
      "498   499       Vistra Energy       http://www.vistraenergy.com       4431   \n",
      "499   500      ABM Industries                http://www.abm.com     110000   \n",
      "\n",
      "                         Sector                                  Industry  \\\n",
      "0                     Retailing                     General Merchandisers   \n",
      "1                    Financials  Insurance: Property and Casualty (Stock)   \n",
      "2                    Technology               Computers, Office Equipment   \n",
      "3                        Energy                        Petroleum Refining   \n",
      "4                   Wholesalers                  Wholesalers: Health Care   \n",
      "..                          ...                                       ...   \n",
      "495                   Retailing                Specialty Retailers: Other   \n",
      "496  Engineering & Construction                              Homebuilders   \n",
      "497                  Technology           Internet Services and Retailing   \n",
      "498                      Energy                                    Energy   \n",
      "499           Business Services          Diversified Outsourcing Services   \n",
      "\n",
      "            Hqlocation                  Hqaddr         Hqcity Hqstate  ...  \\\n",
      "0      Bentonville, AR     702 S.W. Eighth St.    Bentonville      AR  ...   \n",
      "1            Omaha, NE         3555 Farnam St.          Omaha      NE  ...   \n",
      "2        Cupertino, CA         1 Infinite Loop      Cupertino      CA  ...   \n",
      "3           Irving, TX  5959 Las Colinas Blvd.         Irving      TX  ...   \n",
      "4    San Francisco, CA              1 Post St.  San Francisco      CA  ...   \n",
      "..                 ...                     ...            ...     ...  ...   \n",
      "495         Irving, TX    8000 Bent Branch Dr.         Irving      TX  ...   \n",
      "496        Horsham, PA       250 Gibraltar Rd.        Horsham      PA  ...   \n",
      "497      Sunnyvale, CA          701 First Ave.      Sunnyvale      CA  ...   \n",
      "498         Dallas, TX          1601 Bryan St.         Dallas      TX  ...   \n",
      "499       New York, NY         1 Liberty Plaza       New York      NY  ...   \n",
      "\n",
      "                                         Ceo-title  \\\n",
      "0    President, Chief Executive Officer & Director   \n",
      "1               Chairman & Chief Executive Officer   \n",
      "2               Chief Executive Officer & Director   \n",
      "3               Chairman & Chief Executive Officer   \n",
      "4    Chairman, President & Chief Executive Officer   \n",
      "..                                             ...   \n",
      "495             Chairman & Chief Executive Officer   \n",
      "496             Chief Executive Officer & Director   \n",
      "497  President, Chief Executive Officer & Director   \n",
      "498  President, Chief Executive Officer & Director   \n",
      "499  President, Chief Executive Officer & Director   \n",
      "\n",
      "                                        Address Ticker  \\\n",
      "0    702 S.W. Eighth St., Bentonville, AR 72716    WMT   \n",
      "1              3555 Farnam St., Omaha, NE 68131   BRKA   \n",
      "2          1 Infinite Loop, Cupertino, CA 95014   AAPL   \n",
      "3      5959 Las Colinas Blvd., Irving, TX 75039    XOM   \n",
      "4           1 Post St., San Francisco, CA 94104    MCK   \n",
      "..                                          ...    ...   \n",
      "495      8000 Bent Branch Dr., Irving, TX 75063    MIK   \n",
      "496        250 Gibraltar Rd., Horsham, PA 19044    TOL   \n",
      "497         701 First Ave., Sunnyvale, CA 94089   YHOO   \n",
      "498            1601 Bryan St., Dallas, TX 75201    VST   \n",
      "499         1 Liberty Plaza, New York, NY 10006    ABM   \n",
      "\n",
      "                         Fullname Revenues Revchange  Profits  Prftchange  \\\n",
      "0           Wal-Mart Stores, Inc.   485873       0.8  13643.0        -7.2   \n",
      "1         Berkshire Hathaway Inc.   223604       6.1  24074.0           0   \n",
      "2                     Apple, Inc.   215639      -7.7  45687.0       -14.4   \n",
      "3         Exxon Mobil Corporation   205004     -16.7   7840.0       -51.5   \n",
      "4            McKesson Corporation   192487       6.2   2258.0          53   \n",
      "..                            ...      ...       ...      ...         ...   \n",
      "495  The Michaels Companies, Inc.     5197       5.8    378.2         4.2   \n",
      "496           Toll Brothers, Inc.     5170      23.9    382.1         5.2   \n",
      "497                   Yahoo! Inc.     5169       4.0   -214.3         5.2   \n",
      "498           Vistra Energy Corp.     5164       4.0   -214.3         5.2   \n",
      "499   ABM Industries Incorporated     5145      -2.8     57.2         -25   \n",
      "\n",
      "     Assets  Totshequity  \n",
      "0    198825      77798.0  \n",
      "1    620854     283001.0  \n",
      "2    321686     128249.0  \n",
      "3    330314     167325.0  \n",
      "4     56563       8924.0  \n",
      "..      ...          ...  \n",
      "495    2148      -1698.0  \n",
      "496    9737       4229.0  \n",
      "497   48083      31049.0  \n",
      "498   15167       6597.0  \n",
      "499    2281        974.0  \n",
      "\n",
      "[500 rows x 23 columns]\n"
     ]
    }
   ],
   "source": [
    "import pandas as pd\n",
    "f=pd.read_csv('f500.csv')\n",
    "print(f)"
   ]
  },
  {
   "cell_type": "code",
   "execution_count": 5,
   "id": "b61fdb1e",
   "metadata": {},
   "outputs": [
    {
     "name": "stdout",
     "output_type": "stream",
     "text": [
      "(500, 23)\n"
     ]
    }
   ],
   "source": [
    "import pandas as pd\n",
    "file=pd.read_csv('f500.csv')\n",
    "print(file.shape)"
   ]
  },
  {
   "cell_type": "code",
   "execution_count": 2,
   "id": "f10c0ba5",
   "metadata": {
    "collapsed": true
   },
   "outputs": [
    {
     "ename": "SyntaxError",
     "evalue": "'(' was never closed (808381824.py, line 2)",
     "output_type": "error",
     "traceback": [
      "\u001b[1;36m  Input \u001b[1;32mIn [2]\u001b[1;36m\u001b[0m\n\u001b[1;33m    pd.read_csv('iris.csv'\u001b[0m\n\u001b[1;37m               ^\u001b[0m\n\u001b[1;31mSyntaxError\u001b[0m\u001b[1;31m:\u001b[0m '(' was never closed\n"
     ]
    }
   ],
   "source": [
    "import pandas as pd\n",
    "pd.read_csv('iris.csv'"
   ]
  },
  {
   "cell_type": "code",
   "execution_count": 15,
   "id": "4cfd50fd",
   "metadata": {},
   "outputs": [
    {
     "name": "stdout",
     "output_type": "stream",
     "text": [
      "       Profits\n",
      "count      501\n",
      "unique     498\n",
      "top        306\n",
      "freq         3\n"
     ]
    },
    {
     "name": "stderr",
     "output_type": "stream",
     "text": [
      "C:\\Users\\Juned Sultani\\AppData\\Local\\Temp\\ipykernel_10080\\619265492.py:2: ParserWarning: Length of header or names does not match length of data. This leads to a loss of data with index_col=False.\n",
      "  f=p.read_csv('f500.csv', names=['Profits'], index_col=False)\n"
     ]
    }
   ],
   "source": [
    "import pandas as p\n",
    "f=p.read_csv('f500.csv', names=['Profits'], index_col=False)\n",
    "print(f.describe())"
   ]
  },
  {
   "cell_type": "code",
   "execution_count": 16,
   "id": "a34ff3e0",
   "metadata": {},
   "outputs": [
    {
     "name": "stdout",
     "output_type": "stream",
     "text": [
      "     5.1  3.5  1.4  0.2     Iris-setosa\n",
      "1    4.7  3.2  1.3  0.2     Iris-setosa\n",
      "2    4.6  3.1  1.5  0.2     Iris-setosa\n",
      "3    5.0  3.6  1.4  0.2     Iris-setosa\n",
      "4    5.4  3.9  1.7  0.4     Iris-setosa\n",
      "5    4.6  3.4  1.4  0.3     Iris-setosa\n",
      "..   ...  ...  ...  ...             ...\n",
      "144  6.7  3.0  5.2  2.3  Iris-virginica\n",
      "145  6.3  2.5  5.0  1.9  Iris-virginica\n",
      "146  6.5  3.0  5.2  2.0  Iris-virginica\n",
      "147  6.2  3.4  5.4  2.3  Iris-virginica\n",
      "148  5.9  3.0  5.1  1.8  Iris-virginica\n",
      "\n",
      "[148 rows x 5 columns]\n"
     ]
    }
   ],
   "source": [
    "import pandas as pd   \n",
    "iris=pd.read_csv('https://archive.ics.uci.edu/ml/machine-learning-databases/iris/iris.data')\n",
    "iris.drop(0,inplace= True)\n",
    "print(iris)"
   ]
  },
  {
   "cell_type": "code",
   "execution_count": 18,
   "id": "486bd161",
   "metadata": {},
   "outputs": [
    {
     "name": "stdout",
     "output_type": "stream",
     "text": [
      "variety\n",
      "Setosa        50\n",
      "Versicolor    50\n",
      "Virginica     50\n",
      "dtype: int64\n"
     ]
    }
   ],
   "source": [
    "import pandas as p\n",
    "f=p.read_csv('https://gist.githubusercontent.com/netj/8836201/raw/6f9306ad21398ea43cba4f7d537619d0e07d5ae3/iris.csv')\n",
    "a=f.value_counts('variety')\n",
    "print(a)"
   ]
  },
  {
   "cell_type": "code",
   "execution_count": 21,
   "id": "1194374c",
   "metadata": {},
   "outputs": [
    {
     "data": {
      "text/html": [
       "<div>\n",
       "<style scoped>\n",
       "    .dataframe tbody tr th:only-of-type {\n",
       "        vertical-align: middle;\n",
       "    }\n",
       "\n",
       "    .dataframe tbody tr th {\n",
       "        vertical-align: top;\n",
       "    }\n",
       "\n",
       "    .dataframe thead th {\n",
       "        text-align: right;\n",
       "    }\n",
       "</style>\n",
       "<table border=\"1\" class=\"dataframe\">\n",
       "  <thead>\n",
       "    <tr style=\"text-align: right;\">\n",
       "      <th></th>\n",
       "      <th>max_speed</th>\n",
       "      <th>shield</th>\n",
       "    </tr>\n",
       "  </thead>\n",
       "  <tbody>\n",
       "    <tr>\n",
       "      <th>cobra</th>\n",
       "      <td>1</td>\n",
       "      <td>2</td>\n",
       "    </tr>\n",
       "    <tr>\n",
       "      <th>viper</th>\n",
       "      <td>4</td>\n",
       "      <td>5</td>\n",
       "    </tr>\n",
       "    <tr>\n",
       "      <th>sidewinder</th>\n",
       "      <td>7</td>\n",
       "      <td>8</td>\n",
       "    </tr>\n",
       "  </tbody>\n",
       "</table>\n",
       "</div>"
      ],
      "text/plain": [
       "            max_speed  shield\n",
       "cobra               1       2\n",
       "viper               4       5\n",
       "sidewinder          7       8"
      ]
     },
     "execution_count": 21,
     "metadata": {},
     "output_type": "execute_result"
    }
   ],
   "source": [
    "df1 = pd.DataFrame([[1, 2], [4, 5], [7, 8]],\n",
    "     index=['cobra', 'viper', 'sidewinder'],\n",
    "     columns=['max_speed', 'shield'])\n",
    "df1\n"
   ]
  },
  {
   "cell_type": "code",
   "execution_count": 24,
   "id": "bd9d28e6",
   "metadata": {},
   "outputs": [
    {
     "name": "stdout",
     "output_type": "stream",
     "text": [
      "2\n",
      "{'animal': ['cat', 'cat', 'snake', 'dog', 'dog', 'cat', 'snake', 'cat', 'dog', 'dog'], 'age': [2.5, 3, 0.5, nan, 5, 2, 4.5, nan, 7, 3], 'visits': [1, 3, 2, 3, 2, 3, 1, 1, 2, 1], 'priority': ['yes', 'yes', 'no', 'yes', 'no', 'no', 'no', 'yes', 'no', 'no']}\n"
     ]
    }
   ],
   "source": [
    "import numpy as np\n",
    "import pandas as pd\n",
    "\n",
    "data = {'animal': ['cat', 'cat', 'snake', 'dog', 'dog', 'cat', 'snake', 'cat', 'dog', 'dog'],\n",
    "        'age': [2.5, 3, 0.5, np.nan, 5, 2, 4.5, np.nan, 7, 3],\n",
    "        'visits': [1, 3, 2, 3, 2, 3, 1, 1, 2, 1],\n",
    "        'priority': ['yes', 'yes', 'no', 'yes', 'no', 'no', 'no', 'yes', 'no', 'no']}\n",
    "\n",
    "labels = ['a', 'b', 'c', 'd', 'e', 'f', 'g', 'h', 'i', 'j']\n",
    "\n",
    "df = pd.DataFrame(data, index=labels)\n",
    "print(df['age'].isna().sum())\n",
    "print(data)"
   ]
  },
  {
   "cell_type": "code",
   "execution_count": 26,
   "id": "281cc14a",
   "metadata": {},
   "outputs": [
    {
     "name": "stdout",
     "output_type": "stream",
     "text": [
      "4.30 2.30 1.00 0.10 Iris-setosa\n",
      "5.80 4.40 1.90 0.60 Iris-setosa\n",
      "5.01 3.42 1.46 0.24 Iris-setosa\n",
      "4.90 2.00 3.00 1.00 Iris-versicolor\n",
      "7.00 3.40 5.10 1.80 Iris-versicolor\n",
      "5.94 2.77 4.26 1.33 Iris-versicolor\n",
      "4.90 2.20 4.50 1.40 Iris-virginica\n",
      "7.90 3.80 6.90 2.50 Iris-virginica\n",
      "6.59 2.97 5.55 2.03 Iris-virginica\n"
     ]
    }
   ],
   "source": [
    "import pandas as pd\n",
    "a=pd.read_csv(\"https://archive.ics.uci.edu/ml/machine-learning-databases/iris/iris.data\",header=None)\n",
    "a.columns=['sl','sw','pl','pw','flower_type']\n",
    "\n",
    "for n in ['Iris-setosa','Iris-versicolor','Iris-virginica']:\n",
    "    f=a[a.flower_type==n]\n",
    "    c=f.describe()\n",
    "    c.loc['avg']=[sum(f.sl)/50.0,sum(f.sw)/50.0,sum(f.pl)/50.0,sum(f.pw)/50.0]\n",
    "    \n",
    "    for i in ['min','max','avg']:\n",
    "        for j in ['sl','sw','pl','pw']:\n",
    "            print('%.2f'%c[j][i],end=\" \")\n",
    "        print(n)"
   ]
  },
  {
   "cell_type": "code",
   "execution_count": 27,
   "id": "e182df8c",
   "metadata": {},
   "outputs": [
    {
     "name": "stdout",
     "output_type": "stream",
     "text": [
      "   Rank               Title                           Website\n",
      "0     1             Walmart            http://www.walmart.com\n",
      "1     2  Berkshire Hathaway  http://www.berkshirehathaway.com\n",
      "2     3               Apple              http://www.apple.com\n",
      "3     4         Exxon Mobil         http://www.exxonmobil.com\n",
      "4     5            McKesson           http://www.mckesson.com\n"
     ]
    }
   ],
   "source": [
    "import pandas as pd\n",
    "f500 = pd.read_csv('f500.csv')\n",
    "print(f500.iloc[:5, :3])"
   ]
  },
  {
   "cell_type": "code",
   "execution_count": 3,
   "id": "77d99ad3",
   "metadata": {},
   "outputs": [
    {
     "name": "stdout",
     "output_type": "stream",
     "text": [
      "400 Atlantic St., Stamford, CT 06901             2\n",
      "1211 Ave. of the Americas, New York, NY 10036    2\n",
      "601 Riverside Ave., Jacksonville, FL 32204       2\n",
      "390 Park Ave., New York, NY 10022                2\n",
      "767 Fifth Ave., New York, NY 10153               2\n",
      "Name: Address, dtype: int64\n"
     ]
    }
   ],
   "source": [
    "import pandas as p\n",
    "f=p.read_csv('f500.csv', index_col=False)\n",
    "print(f['Address'].value_counts()[0:5])"
   ]
  },
  {
   "cell_type": "code",
   "execution_count": 32,
   "id": "be36037c",
   "metadata": {},
   "outputs": [
    {
     "name": "stdout",
     "output_type": "stream",
     "text": [
      "6.3 3.3 6.0 2.5 Iris-virginica \n",
      "5.8 2.7 5.1 1.9 Iris-virginica \n",
      "7.1 3.0 5.9 2.1 Iris-virginica \n",
      "6.3 2.9 5.6 1.8 Iris-virginica \n",
      "6.5 3.0 5.8 2.2 Iris-virginica \n",
      "7.6 3.0 6.6 2.1 Iris-virginica \n",
      "4.9 2.5 4.5 1.7 Iris-virginica \n",
      "7.3 2.9 6.3 1.8 Iris-virginica \n",
      "6.7 2.5 5.8 1.8 Iris-virginica \n",
      "7.2 3.6 6.1 2.5 Iris-virginica \n",
      "6.5 3.2 5.1 2.0 Iris-virginica \n",
      "6.4 2.7 5.3 1.9 Iris-virginica \n",
      "6.8 3.0 5.5 2.1 Iris-virginica \n",
      "5.7 2.5 5.0 2.0 Iris-virginica \n",
      "5.8 2.8 5.1 2.4 Iris-virginica \n",
      "6.4 3.2 5.3 2.3 Iris-virginica \n",
      "6.5 3.0 5.5 1.8 Iris-virginica \n",
      "7.7 3.8 6.7 2.2 Iris-virginica \n",
      "7.7 2.6 6.9 2.3 Iris-virginica \n",
      "6.0 2.2 5.0 1.5 Iris-virginica \n",
      "6.9 3.2 5.7 2.3 Iris-virginica \n",
      "5.6 2.8 4.9 2.0 Iris-virginica \n",
      "7.7 2.8 6.7 2.0 Iris-virginica \n",
      "6.3 2.7 4.9 1.8 Iris-virginica \n",
      "6.7 3.3 5.7 2.1 Iris-virginica \n",
      "7.2 3.2 6.0 1.8 Iris-virginica \n",
      "6.2 2.8 4.8 1.8 Iris-virginica \n",
      "6.1 3.0 4.9 1.8 Iris-virginica \n",
      "6.4 2.8 5.6 2.1 Iris-virginica \n",
      "7.2 3.0 5.8 1.6 Iris-virginica \n",
      "7.4 2.8 6.1 1.9 Iris-virginica \n",
      "7.9 3.8 6.4 2.0 Iris-virginica \n",
      "6.4 2.8 5.6 2.2 Iris-virginica \n",
      "6.3 2.8 5.1 1.5 Iris-virginica \n",
      "6.1 2.6 5.6 1.4 Iris-virginica \n",
      "7.7 3.0 6.1 2.3 Iris-virginica \n",
      "6.3 3.4 5.6 2.4 Iris-virginica \n",
      "6.4 3.1 5.5 1.8 Iris-virginica \n",
      "6.0 3.0 4.8 1.8 Iris-virginica \n",
      "6.9 3.1 5.4 2.1 Iris-virginica \n",
      "6.7 3.1 5.6 2.4 Iris-virginica \n",
      "6.9 3.1 5.1 2.3 Iris-virginica \n",
      "5.8 2.7 5.1 1.9 Iris-virginica \n",
      "6.8 3.2 5.9 2.3 Iris-virginica \n",
      "6.7 3.3 5.7 2.5 Iris-virginica \n",
      "6.7 3.0 5.2 2.3 Iris-virginica \n",
      "6.3 2.5 5.0 1.9 Iris-virginica \n",
      "6.5 3.0 5.2 2.0 Iris-virginica \n",
      "6.2 3.4 5.4 2.3 Iris-virginica \n",
      "5.9 3.0 5.1 1.8 Iris-virginica \n"
     ]
    }
   ],
   "source": [
    "import pandas as pd\n",
    "iris = pd.read_csv('https://files.codingninjas.in/iris-8116.csv?_ga=2.61329509.831245235.1613828238-1328931189.1612322495')\n",
    "a = iris[(iris['sepal.length'] > 1.5) & (iris['variety'] == 'Iris-virginica')]\n",
    "x=a.values\n",
    "for i in range(a.shape[0]):\n",
    "    for j in range(a.shape[1]):\n",
    "        print(x[i][j],end=\" \")\n",
    "    print()"
   ]
  },
  {
   "cell_type": "code",
   "execution_count": 33,
   "id": "c0f8a415",
   "metadata": {},
   "outputs": [
    {
     "name": "stdout",
     "output_type": "stream",
     "text": [
      "50 50 50 "
     ]
    }
   ],
   "source": [
    "import pandas as pd\n",
    "column_name=['SeapalLength','SepalWidth','PetalLength','PetalWidth','Species']\n",
    "iris=pd.read_csv('https://archive.ics.uci.edu/ml/machine-learning-databases/iris/iris.data',names=column_name)\n",
    "for i in iris['Species'].value_counts():\n",
    "    print(i,end=\" \")"
   ]
  }
 ],
 "metadata": {
  "kernelspec": {
   "display_name": "Python 3 (ipykernel)",
   "language": "python",
   "name": "python3"
  },
  "language_info": {
   "codemirror_mode": {
    "name": "ipython",
    "version": 3
   },
   "file_extension": ".py",
   "mimetype": "text/x-python",
   "name": "python",
   "nbconvert_exporter": "python",
   "pygments_lexer": "ipython3",
   "version": "3.10.0"
  }
 },
 "nbformat": 4,
 "nbformat_minor": 5
}
