{
  "nbformat": 4,
  "nbformat_minor": 0,
  "metadata": {
    "colab": {
      "provenance": [],
      "collapsed_sections": [],
      "authorship_tag": "ABX9TyMeNvUx3+KsZgaU1Kg25iV8",
      "include_colab_link": true
    },
    "kernelspec": {
      "name": "python3",
      "display_name": "Python 3"
    },
    "language_info": {
      "name": "python"
    }
  },
  "cells": [
    {
      "cell_type": "markdown",
      "metadata": {
        "id": "view-in-github",
        "colab_type": "text"
      },
      "source": [
        "<a href=\"https://colab.research.google.com/github/junedsheikh/Data-Analytics/blob/main/AssignmentDiabetesDataset.ipynb\" target=\"_parent\"><img src=\"https://colab.research.google.com/assets/colab-badge.svg\" alt=\"Open In Colab\"/></a>"
      ]
    },
    {
      "cell_type": "code",
      "source": [
        "import numpy as np\n",
        "import pandas as pd\n",
        "from sklearn import datasets \n",
        "from sklearn.linear_model import LinearRegression \n",
        "\n",
        "df=np.loadtxt(\"/content/training_diabetes_x_y_train.csv\",delimiter=\",\")\n",
        "X_test=np.loadtxt(\"/content/test_diabetes_x_test.csv\",delimiter=\",\")\n",
        "\n",
        "\n",
        "X_train = df[:,:10]\n",
        "Y_train = df[:,10:]\n",
        "\n",
        "reg = LinearRegression() \n",
        "def fit(x_train, y_train): \n",
        "    num = (x_train*y_train).mean() - x_train.mean()*y_train.mean() \n",
        "    den = (x_train**2).mean() - x_train.mean()**2 \n",
        "    m = num/den \n",
        "    c = y_train.mean() - m*x_train.mean() \n",
        "    return m, c \n",
        "def predict(x, m, c): \n",
        "    return m*x + c \n",
        "def score(y_truth, y_pred): \n",
        "    u = ((y_truth - y_pred)**2).sum() \n",
        "    v = ((y_truth - y_truth.mean())**2).mean() \n",
        "    return 1 - u/v \n",
        "def cost(x, y, m, c): \n",
        "    return ((y-m*x - c)**2).mean() \n",
        "\n",
        "m, c = fit(X_train, Y_train) \n",
        "y_test_pred = predict(X_test, m, c)\n",
        "\n",
        "c = np.savetxt('file.csv', y_test_pred, fmt=\"%0.5f\", delimiter =',')   "
      ],
      "metadata": {
        "id": "w-rXBFEbDNZC"
      },
      "execution_count": null,
      "outputs": []
    },
    {
      "cell_type": "code",
      "source": [
        "#Diabetes Dataset Prediction correct\n",
        "\n",
        "import numpy as np\n",
        "import pandas as pd\n",
        "from sklearn import datasets \n",
        "from sklearn.linear_model import LinearRegression \n",
        "\n",
        "df=np.loadtxt(\"/content/training_diabetes_x_y_train.csv\",delimiter=\",\")\n",
        "data=np.loadtxt(\"/content/test_diabetes_x_test.csv\",delimiter=\",\")\n",
        "\n",
        "\n",
        "X_train = df[:,:10]\n",
        "Y_train = df[:,10:]\n",
        "\n",
        "reg = LinearRegression() \n",
        "reg.fit(X_train, Y_train)\n",
        "ans=reg.predict(data)\n",
        "\n",
        "s_train= reg.score(X_train, Y_train)\n",
        "s_test= reg.score(data, ans)\n",
        "\n",
        "print(s_train, s_test)\n",
        "c = np.savetxt('predidctionDiabetesDataset.csv',ans, fmt=\"%0.5f\", delimiter =',') "
      ],
      "metadata": {
        "colab": {
          "base_uri": "https://localhost:8080/"
        },
        "id": "5ZdW_IlrOgPZ",
        "outputId": "8b9cd964-5e38-4cda-f65a-c249f51dcac0"
      },
      "execution_count": 52,
      "outputs": [
        {
          "output_type": "stream",
          "name": "stdout",
          "text": [
            "0.49572080558056053 1.0\n"
          ]
        }
      ]
    }
  ]
}