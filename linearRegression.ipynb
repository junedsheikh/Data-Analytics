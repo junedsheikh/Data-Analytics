{
  "nbformat": 4,
  "nbformat_minor": 0,
  "metadata": {
    "colab": {
      "provenance": [],
      "collapsed_sections": [],
      "authorship_tag": "ABX9TyP1wrEVmys26vzNxpL5Tzhb",
      "include_colab_link": true
    },
    "kernelspec": {
      "name": "python3",
      "display_name": "Python 3"
    },
    "language_info": {
      "name": "python"
    }
  },
  "cells": [
    {
      "cell_type": "markdown",
      "metadata": {
        "id": "view-in-github",
        "colab_type": "text"
      },
      "source": [
        "<a href=\"https://colab.research.google.com/github/junedsheikh/Data-Analytics/blob/main/linearRegression.ipynb\" target=\"_parent\"><img src=\"https://colab.research.google.com/assets/colab-badge.svg\" alt=\"Open In Colab\"/></a>"
      ]
    },
    {
      "cell_type": "code",
      "source": [
        "import pandas as pd\n",
        "df= pd.read_csv(\"/content/FuelEconomy.csv\")"
      ],
      "metadata": {
        "id": "kCZhO7aSpOqv"
      },
      "execution_count": null,
      "outputs": []
    },
    {
      "cell_type": "markdown",
      "source": [
        "#Find coefficient and intercept"
      ],
      "metadata": {
        "id": "ibFAMjL4sGwR"
      }
    },
    {
      "cell_type": "code",
      "execution_count": null,
      "metadata": {
        "colab": {
          "base_uri": "https://localhost:8080/"
        },
        "id": "8mN3Mr6hTGEJ",
        "outputId": "d05a9254-fd3e-4574-dfcf-26d5252e06c4"
      },
      "outputs": [
        {
          "output_type": "stream",
          "name": "stdout",
          "text": [
            "-0.07\n",
            "38.84\n"
          ]
        }
      ],
      "source": [
        "#Find coefficient and intercept\n",
        "\n",
        "import numpy as np \n",
        "from sklearn.model_selection import train_test_split \n",
        "from sklearn.linear_model import LinearRegression \n",
        "fuelEconomy = np.loadtxt('FuelEconomy.csv', delimiter=',') \n",
        "X = fuelEconomy[:, 0].reshape(-1, 1) \n",
        "y = fuelEconomy[:, 1] \n",
        "X_train, X_test, y_train, y_test = train_test_split(X, y, test_size=0.3, random_state=42) \n",
        "regressor = LinearRegression() \n",
        "regressor.fit(X_train, y_train) \n",
        "print(round(regressor.coef_[0], 2)) \n",
        "print(round(regressor.intercept_, 2))"
      ]
    },
    {
      "cell_type": "markdown",
      "source": [
        "#Find the testing and training score"
      ],
      "metadata": {
        "id": "GVOM0WjWsKfJ"
      }
    },
    {
      "cell_type": "code",
      "source": [
        "import numpy as np \n",
        "from sklearn.model_selection import train_test_split \n",
        "from sklearn.linear_model import LinearRegression \n",
        "fuelEconomy = np.loadtxt('FuelEconomy.csv', delimiter=',') \n",
        "X = fuelEconomy[:, 0].reshape(-1, 1) \n",
        "y = fuelEconomy[:, 1] \n",
        "X_train, X_test, y_train, y_test = train_test_split(X, y, test_size=0.3, random_state=42) \n",
        "regressor = LinearRegression() \n",
        "regressor.fit(X_train, y_train) \n",
        "test_score = regressor.score(X_test, y_test) \n",
        "train_score = regressor.score(X_train, y_train) \n",
        "print(round(test_score, 3)) \n",
        "print(round(train_score, 3))"
      ],
      "metadata": {
        "colab": {
          "base_uri": "https://localhost:8080/"
        },
        "id": "GlODmh6AY8SI",
        "outputId": "b986dfda-354b-4d3a-eb11-f20e274c83cf"
      },
      "execution_count": null,
      "outputs": [
        {
          "output_type": "stream",
          "name": "stdout",
          "text": [
            "0.913\n",
            "0.906\n"
          ]
        }
      ]
    },
    {
      "cell_type": "markdown",
      "source": [
        "#Coding Linear Regression from Scratch"
      ],
      "metadata": {
        "id": "OCSMYyY5ssV1"
      }
    },
    {
      "cell_type": "code",
      "source": [
        "import numpy as np \n",
        "from sklearn.model_selection import train_test_split \n",
        "data = np.loadtxt('FuelEconomy.csv', delimiter=',') \n",
        "X = data[:, 0] \n",
        "y = data[:, 1] \n",
        "X_train, X_test, Y_train, Y_test = train_test_split(X, y, test_size = 0.3, random_state=42)\n",
        "\n",
        "def fit(x_train, y_train): \n",
        "    num = (x_train*y_train).mean() - x_train.mean()*y_train.mean() \n",
        "    den = (x_train**2).mean() - x_train.mean()**2 \n",
        "    m = num/den \n",
        "    c = y_train.mean() - m*x_train.mean() \n",
        "    return m, c \n",
        "def predict(x, m, c): \n",
        "    return m*x + c \n",
        "def score(y_truth, y_pred): \n",
        "    u = ((y_truth - y_pred)**2).sum() \n",
        "    v = ((y_truth - y_truth.mean())**2).mean() \n",
        "    return 1 - u/v \n",
        "def cost(x, y, m, c): \n",
        "    return ((y-m*x - c)**2).mean() \n",
        "\n",
        "m, c = fit(X_train, Y_train) \n",
        "y_test_pred = predict(X_test, m, c) \n",
        "y_train_pred = predict(X_train, m, c) \n",
        "print(round(score(Y_test, y_test_pred), 2)) \n",
        "print(round(score(Y_train, y_train_pred), 2))\n",
        "print(round(cost(X_train,Y_train, m, c ), 2))"
      ],
      "metadata": {
        "colab": {
          "base_uri": "https://localhost:8080/"
        },
        "id": "EcnQPbHEso2L",
        "outputId": "fbe331d3-cfed-4371-e56e-e32ffc063e32"
      },
      "execution_count": 11,
      "outputs": [
        {
          "output_type": "stream",
          "name": "stdout",
          "text": [
            "-1.6\n",
            "-5.56\n",
            "2.12\n"
          ]
        }
      ]
    },
    {
      "cell_type": "code",
      "source": [
        "import numpy as np\n",
        "data = np.loadtxt(\"https://files.codingninjas.in/data-6984.csv\", delimiter = \",\")\n",
        "X = data[:, 0].reshape(-1, 1)\n",
        "Y = data[:, 1]\n",
        "X.shape"
      ],
      "metadata": {
        "colab": {
          "base_uri": "https://localhost:8080/"
        },
        "id": "HDCQTo36vzdg",
        "outputId": "66be1da5-b5a8-438f-d91c-07f200651171"
      },
      "execution_count": 14,
      "outputs": [
        {
          "output_type": "execute_result",
          "data": {
            "text/plain": [
              "(100, 1)"
            ]
          },
          "metadata": {},
          "execution_count": 14
        }
      ]
    }
  ]
}