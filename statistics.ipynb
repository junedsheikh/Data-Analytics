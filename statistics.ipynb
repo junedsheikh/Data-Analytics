{
 "cells": [
  {
   "cell_type": "code",
   "execution_count": 2,
   "id": "82df2fc8",
   "metadata": {},
   "outputs": [
    {
     "data": {
      "text/plain": [
       "15"
      ]
     },
     "execution_count": 2,
     "metadata": {},
     "output_type": "execute_result"
    }
   ],
   "source": [
    "import statistics\n",
    "\n",
    "statistics.mean([-30,-20,-10,0,10,20,30,40,50,60])"
   ]
  },
  {
   "cell_type": "code",
   "execution_count": 3,
   "id": "03f7bdd1",
   "metadata": {},
   "outputs": [
    {
     "data": {
      "text/plain": [
       "15.0"
      ]
     },
     "execution_count": 3,
     "metadata": {},
     "output_type": "execute_result"
    }
   ],
   "source": [
    "import statistics\n",
    "\n",
    "statistics.median([-30,-20,-10,0,10,20,30,40,50,60])"
   ]
  },
  {
   "cell_type": "code",
   "execution_count": 4,
   "id": "c3d048ad",
   "metadata": {},
   "outputs": [
    {
     "data": {
      "text/plain": [
       "-30"
      ]
     },
     "execution_count": 4,
     "metadata": {},
     "output_type": "execute_result"
    }
   ],
   "source": [
    "import statistics\n",
    "\n",
    "statistics.mode([-30, -20, -10, 0, 10, 20, 30, 40, 50,60])"
   ]
  },
  {
   "cell_type": "code",
   "execution_count": 5,
   "id": "67492b12",
   "metadata": {},
   "outputs": [
    {
     "name": "stdout",
     "output_type": "stream",
     "text": [
      "Standard Deviation of sample is 5.419102016632153 \n"
     ]
    }
   ],
   "source": [
    "import statistics\n",
    "# creating a simple data - set\n",
    "sample = [14, 23, 9, 12, 21, 18,]\n",
    "# Prints standard deviation\n",
    "# xbar is set to default value of 1\n",
    "print(\"Standard Deviation of sample is % s \"\n",
    "% (statistics.stdev(sample)))\n"
   ]
  },
  {
   "cell_type": "code",
   "execution_count": 6,
   "id": "2a72d903",
   "metadata": {},
   "outputs": [
    {
     "data": {
      "text/plain": [
       "10.5"
      ]
     },
     "execution_count": 6,
     "metadata": {},
     "output_type": "execute_result"
    }
   ],
   "source": [
    "import numpy as np\n",
    "\n",
    "arr=[1, 3, 3, 4, 6, 7, 7, 7, 8, 9, 9, 10, 12, 15, 16, 17]\n",
    "arr=np.array(arr)\n",
    "np.quantile(arr,0.75)"
   ]
  },
  {
   "cell_type": "code",
   "execution_count": 7,
   "id": "605cfcf0",
   "metadata": {},
   "outputs": [
    {
     "data": {
      "text/plain": [
       "76.25"
      ]
     },
     "execution_count": 7,
     "metadata": {},
     "output_type": "execute_result"
    }
   ],
   "source": [
    "import numpy as np\n",
    "\n",
    "arr=[20, 40, 50, 65, 70, 75, 80, 100]\n",
    "np.quantile(arr,0.75)"
   ]
  },
  {
   "cell_type": "code",
   "execution_count": 8,
   "id": "3a4eb027",
   "metadata": {},
   "outputs": [
    {
     "name": "stdout",
     "output_type": "stream",
     "text": [
      "\n",
      " 2 \n",
      " 19 \n",
      " 25 \n",
      " 39 \n",
      " 55\n"
     ]
    }
   ],
   "source": [
    "import numpy as np\n",
    " \n",
    "arr=[24, 43, 41, 33, 25, 19, 17, 9, 50, 34, 55, 2, 25, 21]\n",
    "arr=np.array(arr)\n",
    "a=np.quantile(arr,0)\n",
    "b=int(np.quantile(arr,0.25))\n",
    "c=int(np.quantile(arr,0.5))\n",
    "d=int(np.quantile(arr,0.75))\n",
    "e=np.quantile(arr,1)\n",
    "\n",
    "print('\\n',a,'\\n',b,'\\n',c,'\\n',d,'\\n',e)\n"
   ]
  },
  {
   "cell_type": "code",
   "execution_count": 9,
   "id": "d75c1249",
   "metadata": {},
   "outputs": [
    {
     "name": "stdout",
     "output_type": "stream",
     "text": [
      "20\n"
     ]
    }
   ],
   "source": [
    "import numpy as np\n",
    " \n",
    "arr=[24, 43, 41, 33, 25, 19, 17, 9, 50, 34, 55, 2, 25, 21]\n",
    "arr=np.array(arr)\n",
    "a=np.quantile(arr,0)\n",
    "b=int(np.quantile(arr,0.25))\n",
    "c=int(np.quantile(arr,0.5))\n",
    "d=int(np.quantile(arr,0.75))\n",
    "e=np.quantile(arr,1)\n",
    "\n",
    "IQR=d-b\n",
    "print(IQR)"
   ]
  },
  {
   "cell_type": "code",
   "execution_count": 10,
   "id": "cb8e39e3",
   "metadata": {},
   "outputs": [
    {
     "name": "stdout",
     "output_type": "stream",
     "text": [
      "29\n",
      "5\n"
     ]
    }
   ],
   "source": [
    "import statistics\n",
    "\n",
    "s = [24, 43, 41, 33, 25, 19, 17, 9, 50, 34, 55, 2, 25, 21]\n",
    "\n",
    "print(int(statistics.variance(sample)))\n",
    "print(int(statistics.stdev(sample)))\n"
   ]
  },
  {
   "cell_type": "code",
   "execution_count": 11,
   "id": "b8a94a78",
   "metadata": {},
   "outputs": [
    {
     "name": "stdout",
     "output_type": "stream",
     "text": [
      "Left Skewed\n"
     ]
    }
   ],
   "source": [
    "#Kind of Skewness\n",
    "\n",
    "a=[586, 760, 495, 678, 559, 415, 370, 659, 119, 288, 241, 787, 522, 207, 160, 526, 656, 848, 720, 676, 581, 929, 653, 661, 770, 800, 529, 975, 995, 947]\n",
    "b=sum(a)/len(a)\n",
    "\n",
    "l=0\n",
    "r=0\n",
    "for i in a:\n",
    "    if i < b:\n",
    "        l+=1\n",
    "    else:\n",
    "        r+=1\n",
    "\n",
    "if l>r:\n",
    "    print(\"Right Skewed\")\n",
    "else:\n",
    "    print(\"Left Skewed\")"
   ]
  },
  {
   "cell_type": "code",
   "execution_count": 21,
   "id": "4b9e6c28",
   "metadata": {},
   "outputs": [
    {
     "name": "stdout",
     "output_type": "stream",
     "text": [
      "0\n",
      "1\n"
     ]
    }
   ],
   "source": [
    "#Standardize the Data\n",
    "\n",
    "import statistics\n",
    "a = [567.45,572.45,572.45,589.12,613.87,615.78,628.45,644.87,650.45,652.20,656.87,661.45,666.45,667.70,668.95,675.28,675.78,685.53,694.28,697.62,705.78,705.87,708.12,711.03,714.03,716.03,722.28,728.12,728.70,729.03,730.12,731.95,735.03,736.95,737.37,738.28,739.78,740.62,743.62,747.20,748.20,748.28,748.53,750.03,752.12,754.70,755.03,758.37,760.53,764.03,769.28,775.45,781.20,781.70,785.62,792.78,793.37,795.28,797.62,798.95,799.70,799.95,810.87,811.53,813.62,814.03,814.78,817.87,818.87,820.70,821.12,825.62,828.62,841.45,842.03,842.87,849.62,874.70,878.78,897.45]\n",
    "og_mean = statistics.mean(a)\n",
    "og_sd = statistics.stdev(a)\n",
    "\n",
    "std_a = []\n",
    "\n",
    "for i in a:\n",
    "    std_a.append((i - og_mean)/og_sd)\n",
    "    \n",
    "s_m = statistics.mean(std_a)\n",
    "s_s = statistics.stdev(std_a)\n",
    "\n",
    "print(round(s_m))\n",
    "print(round(s_s))"
   ]
  },
  {
   "cell_type": "code",
   "execution_count": 16,
   "id": "9022ca2b",
   "metadata": {},
   "outputs": [
    {
     "name": "stdout",
     "output_type": "stream",
     "text": [
      "[-1.4, -1.2, -1.2, -0.2, 0.0, 0.0, 0.4, 0.6, 1.2, 1.8]\n"
     ]
    }
   ],
   "source": [
    "#Calculate Z Score\n",
    "\n",
    "import numpy as np\n",
    "import scipy.stats as stats \n",
    "data = np.array([6, 7, 7, 12, 13, 13, 15, 16, 19, 22]) \n",
    "zs = stats.zscore(data)\n",
    "zs = [round(num, 1) for num in zs] \n",
    "print(zs)"
   ]
  },
  {
   "cell_type": "code",
   "execution_count": 22,
   "id": "896cda5a",
   "metadata": {},
   "outputs": [
    {
     "name": "stdout",
     "output_type": "stream",
     "text": [
      "0.08\n"
     ]
    }
   ],
   "source": [
    "#Calculate Probability Distribution\n",
    "\n",
    "from scipy.stats import norm\n",
    "import numpy as np\n",
    "  \n",
    "data_start = -5\n",
    "data_end = 5\n",
    "data_points = 11\n",
    "data = np.linspace(data_start, data_end, data_points)\n",
    "\n",
    "mean = np.mean(data) \n",
    "std = np.std(data)\n",
    "probability_pdf = norm.pdf(3, loc=mean, scale=std)\n",
    "print(round(probability_pdf, 2))"
   ]
  }
 ],
 "metadata": {
  "kernelspec": {
   "display_name": "Python 3 (ipykernel)",
   "language": "python",
   "name": "python3"
  },
  "language_info": {
   "codemirror_mode": {
    "name": "ipython",
    "version": 3
   },
   "file_extension": ".py",
   "mimetype": "text/x-python",
   "name": "python",
   "nbconvert_exporter": "python",
   "pygments_lexer": "ipython3",
   "version": "3.10.0"
  }
 },
 "nbformat": 4,
 "nbformat_minor": 5
}
